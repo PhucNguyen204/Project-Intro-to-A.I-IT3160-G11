{
  "cells": [
    {
      "cell_type": "markdown",
      "metadata": {
        "id": "UQlP4iO8z6J2"
      },
      "source": [
        "\n",
        "\n",
        "# Báo cáo Project\n",
        "Lớp TTNT-154016<br>\n",
        "Nhóm 11\n"
      ]
    },
    {
      "cell_type": "markdown",
      "metadata": {
        "id": "Wb15ildh9ad4"
      },
      "source": [
        "## Mục Lục\n"
      ]
    },
    {
      "cell_type": "markdown",
      "metadata": {
        "id": "tojIF0ej6BdN"
      },
      "source": [
        "**1. Thông tin chung**\n",
        "- Thành viên\n",
        "\n",
        "**2. Đề xuất project (W2-3)**\n",
        "- Bài toán\n",
        "  - Giải quyết bằng thuật toán A*\n",
        "  - Giải quyết bằng thuật toán Greedy Breath_First Search (Greedy BFS)\n",
        "- Phân công\n",
        "\n",
        "**3. Tiến độ giữa kỳ (W9)**\n",
        "- Chương trình\n",
        "  - Xây dựng hàm Heuristic Manhattan\n",
        "  - Xây dựng thuật toán A*\n",
        "  - Xây dựng giao diện và hiển thị\n",
        "- Kết quả, vấn đề gặp phải\n",
        "  - Kết quả\n",
        "  - Vấn đề gặp phải\n",
        "\n",
        "**4. Cập nhập kết quả cuối kỳ (W15)**\n",
        "- Chi tiết phương pháp, dữ liệu\n",
        "  - Giải quyết bài toán bằng thuật toán A*\n",
        "  - Gải quyết bài toán bằng thuật toán Greedy BFS (Beadth-First Search)\n",
        "- Chương trình\n",
        "  - Xây dựng mê cung (MazeLogic.py)\n",
        "  - Cài đặt thuật toán (MazeSolvingAlgorithm.py)\n",
        "  - Xây dựng Widget hiển thị mê cung và thay đổi khi thực hiện thuật toán (MazeWidget.py)\n",
        "  - Xây dựng giao diện và hiển thị (application.ui)\n",
        "- Phân tích và đánh giá kết quả\n",
        "  - Phân tích\n",
        "    - Thuật toán A*\n",
        "    - Thuật toán Greedy BFS\n",
        "  - Đánh giá kết quả\n",
        "    - So sánh số ô duyệt của 2 thuật toán tìm kiếm với hàm Heuristic tương ứng\n",
        "    - So sánh độ dài đường đi (tìm thấy) của hai thuật toán với hai hàm Heuristic\n",
        "    - Nhận xét kết quả\n",
        "- Cập nhập phân công, khối lượng công việc\n",
        "  - Phân công\n",
        "  - Khối lượng công việc\n",
        "- Tài liệu tham khảo"
      ]
    },
    {
      "cell_type": "markdown",
      "metadata": {
        "id": "ei3HvVhtz6J4"
      },
      "source": [
        "## 1. Thông tin chung"
      ]
    },
    {
      "cell_type": "markdown",
      "metadata": {
        "id": "I2CGIJ8Pz6J5"
      },
      "source": [
        "### Thành viên\n",
        "- Trần Tuấn Hùng - 20225000\n",
        "- Cao Thị Ngọc Huyền - 20225015\n",
        "- Nguyễn Ngọc Phúc - 20220041\n",
        "- Bùi Xuân Tùng - 20224905"
      ]
    },
    {
      "cell_type": "markdown",
      "metadata": {
        "id": "3qyi4nZSz6J5"
      },
      "source": [
        "## 2. Đề xuất project (W2-3)"
      ]
    },
    {
      "cell_type": "markdown",
      "metadata": {
        "id": "k-JO-WcSpitc"
      },
      "source": [
        "### Bài toán"
      ]
    },
    {
      "cell_type": "markdown",
      "metadata": {
        "id": "jJEvFTmbpitc"
      },
      "source": [
        "1. Đề tài\n",
        "- Ứng dụng thuật toán tìm kiếm để giải bài toán **\"Tìm đường đi trong mê cung có đích\"**\n"
      ]
    },
    {
      "cell_type": "markdown",
      "metadata": {
        "id": "fuvDwsUcz6J5"
      },
      "source": [
        "\n",
        "2. Mô tả bài toán **\"Tìm đường đi trong mê cung có đích\"**\n",
        "- Bài toán **Tìm đường đi trong mê cung** là một bài toán quen thuộc trong lý thuyết đồ thị, thường được sử dụng để mô phỏng các vấn đề tìm kiếm và tìm đường đi trong không gian hai chiều.\n",
        "- Trong bài toán này, chúng ta cần tìm một lộ trình **điểm xuất phát** (start) và **điểm đích** (destination) trong một mê cung.\n",
        "- Mê cung được biểu diễn dưới dạng một ma trận **hai chiều**. Các ô trong mê cung bao gồm:\n",
        "    - Các ô trống: Cho phép di chuyển qua các ô này.\n",
        "    - Các ô tường: Không thể di chuyển qua các ô này.\n",
        "\n",
        "- Mục tiêu của bài toán là tìm đường đi ngắn nhất từ điểm xuất phát tới điểm đích"
      ]
    },
    {
      "cell_type": "markdown",
      "metadata": {
        "id": "lXVxYsVcpite"
      },
      "source": [
        "#### 1. Giải quyết bài toán bằng thuật toán A*"
      ]
    },
    {
      "cell_type": "markdown",
      "metadata": {
        "id": "mwm1xnruz6J5"
      },
      "source": [
        "\n",
        "1.1. Giới thiệu\n",
        "- Thuật toán A* được mô tả lần đầu vào năm 1968 bởi Peter Hart, Nils Nilsson, và Bertram Raphael. Trong bài báo của họ, thuật toán được gọi là thuật toán A; khi sử dụng thuật toán này với một đánh giá heuristic thích hợp sẽ thu được hoạt động tối ưu, do đó mà có tên A*.\n",
        "\n",
        "- Trong khoa học máy tính, A* (đọc là A sao) là thuật toán tìm kiếm trong đồ thị. Thuật toán này tìm một đường đi từ một nút khởi đầu tới một nút đích cho trước (hoặc tới một nút thỏa mãn một điều kiện đích). Thuật toán này sử dụng một \"đánh giá heuristic\" để xếp loại từng nút theo ước lượng về tuyến đường tốt nhất đi qua nút đó. Thuật toán này duyệt các nút theo thứ tự của đánh giá heuristic này. Do đó, thuật toán A* là một ví dụ của tìm kiếm theo lựa chọn tốt nhất (best-first search).\n",
        "\n",
        "- Xét bài toán tìm đường - bài toán mà A* thường được dùng để giải. A* xây dựng tăng dần tất cả các tuyến đường từ điểm xuất phát cho tới khi nó tìm thấy một đường đi chạm tới đích. Tuy nhiên, cũng như tất cả các thuật toán tìm kiếm có thông tin (informed tìm kiếm thuật toán), nó chỉ xây dựng các tuyến đường \"có vẻ\" dẫn về phía đích.\n",
        "- Để biết những tuyến đường nào có khả năng sẽ dẫn tới đích, A* sử dụng một \"đánh giá heuristic\" về khoảng cách từ điểm bất kỳ cho trước tới đích. Trong trường hợp tìm đường đi, đánh giá này có thể là khoảng cách đường chim bay - một đánh giá xấp xỉ thường dùng cho khoảng cách của đường giao thông.\n",
        "\n",
        "- Điểm khác biệt của A* đối với tìm kiếm theo lựa chọn tốt nhất là nó còn tính đến khoảng cách đã đi qua. Điều đó làm cho A* \"đầy đủ\" và \"tối ưu\", nghĩa là, A* sẽ luôn luôn tìm thấy đường đi ngắn nhất nếu tồn tại một đường đi như vậy. A* không đảm bảo sẽ chạy nhanh hơn các thuật toán tìm kiếm đơn giản hơn. Trong một môi trường dạng mê cung, cách duy nhất để đến đích có thể là trước hết phải đi về phía xa đích và cuối cùng mới quay lại. Trong trường hợp đó, việc thử các nút theo thứ tự \"gần đích hơn thì được thử trước\" có thể gây tốn thời gian.\n",
        "\n",
        "1.2. Mô tả\n",
        "- A* lưu giữ một tập các lời giải chưa hoàn chỉnh, nghĩa là các đường đi qua đồ thị, bắt đầu từ nút xuất phát. Tập lời giải này được lưu trong một hàng đợi ưu tiên (priority queue). Thứ tự ưu tiên gán cho một đường đi n được quyết định bởi hàm f(n) = g(n) + h(n) .\n",
        "- Trong đó,\n",
        "    - g(n) là chi phí của đường đi từ nút gốc đến nút hiện tại hiện tại n, nghĩa là số các bước đã đi từ nút gốc đến nút hiện tại.\n",
        "    - h(n) là hàm đánh giá heuristic về chi phí nhỏ nhất để đến đích từ n (chi phí ước lượng từ nút hiện tại n đến đích) . Ví dụ, nếu \"chi phí\" được tính là khoảng cách đã đi qua, khoảng cách đường chim bay giữa hai điểm trên một bản đồ là một đánh giá heuristic cho khoảng cách còn phải đi tiếp.\n",
        "    - f(n) là tổng thể ước lượng của đường đi qua nút hiện tại n đến đích và chi phí từ nút ban đầu đến nút hiện tại.\n",
        "- Hàm f(n) có giá trị càng thấp thì độ ưu tiên của  càng cao.\n",
        "- Một ước lượng Heuristic h(n) được xem là chấp nhận được nếu đối với mọi nút n: 0 ≤ h(n) ≤ h*(n). Trong đó:\n",
        "    - h*(n) là chi phí thực tế từ nút n đến đích\n",
        "\n",
        "\n",
        "\n",
        "\n"
      ]
    },
    {
      "cell_type": "markdown",
      "metadata": {
        "id": "0KgMd5shpitf"
      },
      "source": [
        "#### 2. Giải quyết bài toán bằng thuật toán Greedy Breadth-First Search (Greedy BFS)\n",
        "\n",
        "- Đây là thuật toán tìm đường đi từ đỉnh xuất phát đến đỉnh kết thúc bằng cách sử dụng hàm heuristic để ước lượng chi phí từ đỉnh hiện tại đến đích.\n",
        "\n",
        "- Đây là thuật toán nằm trong nhóm thuật toán tìm kiếm có thông tin, thuật toán không quan tâm đến trọng số thực trên đường đi mà chỉ dựa vào giá trị Heuristic để chọn đỉnh kề tốt nhất.\n",
        "\n",
        "- Xuất phát từ một đỉnh, thuật toán duyệt đến đỉnh kề có giá trị heuristic nhỏ nhất, tiếp tục cho đến khi đạt đến đích hoặc không còn đỉnh nào để mở rộng.\n",
        "\n",
        "- Trong quá trình đi đến đỉnh kề, thuật toán lưu lại các đỉnh đã đi qua để xây dựng đường đi từ đỉnh xuất phát đến đích."
      ]
    },
    {
      "cell_type": "markdown",
      "metadata": {
        "id": "zdSWGn_i9jYz"
      },
      "source": [
        "### 3. Phân công\n"
      ]
    },
    {
      "cell_type": "markdown",
      "metadata": {
        "id": "h7_QwkAWz6J5"
      },
      "source": [
        "\n",
        "- Cao Thị Ngọc Huyền: Xây dựng giao diện và thuật toán A*\n",
        "\n",
        "- Trần Tuấn Hùng: Xây dựng giao điện và các hàm Heuristic\n",
        "\n",
        "- Nguyễn Ngọc Phúc: Xây dựng các hàm Heuristic và thuật toán A*\n",
        "\n",
        "- Bùi Xuân Tùng: Xây dựng mê cùng và thuật toán A*\n",
        "\n",
        "\n"
      ]
    },
    {
      "cell_type": "markdown",
      "metadata": {
        "id": "jw1kZSfhz6J6"
      },
      "source": [
        "## 3. Tiến độ giữa kỳ (W9)"
      ]
    },
    {
      "cell_type": "markdown",
      "metadata": {
        "id": "Ktnlvc9bz6J6"
      },
      "source": [
        "### Chương trình\n"
      ]
    },
    {
      "cell_type": "markdown",
      "metadata": {
        "id": "QUuQ5o3TvZSO"
      },
      "source": [
        "#### 1. Xây dựng hàm Heuristic Manhattan\n",
        "\n",
        "\n"
      ]
    },
    {
      "cell_type": "code",
      "execution_count": null,
      "metadata": {
        "id": "-zyou6_Fv-KK"
      },
      "outputs": [],
      "source": [
        "def h(cell1,cell2):\n",
        "    x1,y1 = cell1\n",
        "    x2,y2 = cell2\n",
        "    return abs(x1-x2) + abs(y1-y2)"
      ]
    },
    {
      "cell_type": "markdown",
      "metadata": {
        "id": "-69B3UpUwEA2"
      },
      "source": [
        "#### 2. Xây dựng thuật toán A*"
      ]
    },
    {
      "cell_type": "code",
      "execution_count": null,
      "metadata": {
        "id": "59ErDmV1wJYo"
      },
      "outputs": [],
      "source": [
        "def aStar(maze_map, width, height, source, destination):\n",
        "    g_score = {}\n",
        "    f_score = {}\n",
        "    for x in range (width):\n",
        "        for y in range (height):\n",
        "            g_score[(x,y)] = 1e9\n",
        "            f_score[(x,y)] = 1e9\n",
        "    g_score[source] = 0\n",
        "    f_score[source] = h(source,destination)\n",
        "\n",
        "    open = PriorityQueue()\n",
        "    open.put((f_score[source],source))\n",
        "    searchPath = []\n",
        "    aPath={}\n",
        "    while not open.empty():\n",
        "        currCell = open.get()[1]\n",
        "        searchPath.append(currCell)\n",
        "\n",
        "        if currCell == destination:\n",
        "            break\n",
        "        childCells = []\n",
        "\n",
        "        if maze_map[currCell]['T'] == 1:\n",
        "            childCells.append( (currCell[0],currCell[1]-1) )\n",
        "        if maze_map[currCell]['R'] == 1:\n",
        "            childCells.append( (currCell[0]+1,currCell[1]) )\n",
        "        if maze_map[currCell]['B'] == 1:\n",
        "            childCells.append( (currCell[0],currCell[1]+1) )\n",
        "        if maze_map[currCell]['L'] == 1:\n",
        "            childCells.append( (currCell[0]-1,currCell[1]) )\n",
        "        for childCell in childCells:\n",
        "            temp_g_score = g_score[currCell]+1\n",
        "            temp_f_score = temp_g_score + h(childCell,destination)\n",
        "\n",
        "            if temp_f_score < f_score[childCell]:\n",
        "                aPath[childCell] = currCell\n",
        "                g_score[childCell] = temp_g_score\n",
        "                f_score[childCell] = temp_f_score\n",
        "                open.put((temp_f_score,childCell))\n",
        "    fwdPath = []\n",
        "    cell = destination\n",
        "    while cell != source:\n",
        "        fwdPath.append(cell)\n",
        "        cell = aPath[cell]\n",
        "    fwdPath.append(source)\n",
        "    return searchPath, fwdPath"
      ]
    },
    {
      "cell_type": "markdown",
      "metadata": {
        "id": "xGEARQ9xwNg1"
      },
      "source": [
        "#### 3. Xây dựng giao diện và hiển thị\n",
        "\n",
        "- Sử dụng thư viện tkinter\n"
      ]
    },
    {
      "cell_type": "code",
      "execution_count": null,
      "metadata": {
        "id": "f7t1kiQxxTl7"
      },
      "outputs": [],
      "source": [
        "window = tk.Tk()\n",
        "window.state('zoomed')\n",
        "window.title(\"Demo Maze Solving Algorithm\")\n",
        "scr_width = window.winfo_screenwidth()\n",
        "scr_height = window.winfo_screenheight()\n",
        "window.geometry(f\"{scr_width}x{scr_height}+0+0\")\n",
        "\n",
        "# Tạo một cửa sổ chia đôi\n",
        "panedwindow = tk.PanedWindow(window, orient=\"horizontal\")\n",
        "panedwindow.pack(fill=\"both\", expand=True)\n",
        "\n",
        "# Khung bên trái: Canvas\n",
        "canvas = tk.Canvas(panedwindow, width=scr_width-300, height=scr_height, background=\"white\")\n",
        "panedwindow.add(canvas)\n",
        "\n",
        "# Khung bên phải: Các nút\n",
        "frame = tk.Frame(panedwindow)\n",
        "panedwindow.add(frame)\n",
        "\n",
        "width = 1\n",
        "height = 1\n",
        "length = 1\n",
        "grid = []\n",
        "maze_map = {}\n",
        "source = (0, 0)\n",
        "destination = (0, 0)\n",
        "speed = 300\n",
        "width_var = StringVar(value=\"X (default X = 0):\")\n",
        "height_var = StringVar(value=\"Y (default Y = 0):\")\n",
        "a_star_path_len = StringVar(value=\"A Star Path Length : 0\")\n",
        "a_star_search_len = StringVar(value=\"A Star Search Length : 0\")\n",
        "\n",
        "def draw_maze():\n",
        "    canvas.delete(\"all\")\n",
        "    for cell in grid:\n",
        "        x,y = cell\n",
        "        x1 = 10 + x*length\n",
        "        x2 = x1 + length\n",
        "        y1 = 10 + y*length\n",
        "        y2 = y1 + length\n",
        "        if maze_map[x,y]['T'] == 0:\n",
        "            canvas.create_line(x1, y1, x2, y1, width=2, fill=\"black\")  # Cạnh trên\n",
        "        if maze_map[x,y]['R'] == 0:\n",
        "            canvas.create_line(x2, y1, x2, y2, width=2, fill=\"black\")  # Cạnh phải\n",
        "        if maze_map[x,y]['B'] == 0:\n",
        "            canvas.create_line(x2, y2, x1, y2, width=2, fill=\"black\")  # Cạnh dưới\n",
        "        if maze_map[x,y]['L'] == 0:\n",
        "            canvas.create_line(x1, y2, x1, y1, width=2, fill=\"black\")  # Cạnh trái\n",
        "\n",
        "\n",
        "def breakWall(x1, y1, x2, y2):\n",
        "    #Break wall between 2 cells\n",
        "    #T - top edge of the cell\n",
        "    #R - right edge of the cell\n",
        "    #B - bottom edge of the cell\n",
        "    #L - left edge of the cell\n",
        "    global maze_map\n",
        "    if x1 == x2:\n",
        "        if y1 + 1 == y2:\n",
        "            maze_map[x1,y1]['B'] = 1\n",
        "            maze_map[x2,y2]['T'] = 1\n",
        "        else:\n",
        "            maze_map[x1,y1]['T'] = 1\n",
        "            maze_map[x2,y2]['B'] = 1\n",
        "    else:\n",
        "        if x1 + 1 == x2:\n",
        "            maze_map[x1,y1]['R'] = 1\n",
        "            maze_map[x2,y2]['L'] = 1\n",
        "        else:\n",
        "            maze_map[x1,y1]['L'] = 1\n",
        "            maze_map[x2,y2]['R'] = 1\n",
        "\n",
        "\n",
        "def create_maze():\n",
        "\n",
        "    global maze_map\n",
        "    global grid\n",
        "    grid = []\n",
        "    maze_map = {}\n",
        "    for x in range(width):\n",
        "        for y in range(height):\n",
        "            grid.append((x,y))\n",
        "            maze_map[x,y]={'T':0,'B':0,'L':0,'R':0}\n",
        "    x = 0\n",
        "    y = 0\n",
        "    _stack = []\n",
        "    _stack.append((x,y))\n",
        "    _closed = []\n",
        "    _closed.append((x,y))\n",
        "    directions = [(0, 1), (0, -1), (1, 0), (-1, 0)]\n",
        "    wall = []\n",
        "    while len(_stack) > 0:\n",
        "        cell = []\n",
        "        for dx, dy in directions:\n",
        "            u = x + dx\n",
        "            v = y + dy\n",
        "            if (u, v) not in _closed and (u, v) in grid:\n",
        "                cell.append((u, v))\n",
        "                wall.append((x, y, u, v))\n",
        "        if len(cell) > 0:\n",
        "            u, v = random.choice(cell)\n",
        "            breakWall(x, y, u, v)\n",
        "            _closed.append((u, v))\n",
        "            _stack.append((u, v))\n",
        "            wall.remove((x, y, u, v))\n",
        "            x = u\n",
        "            y = v\n",
        "        else:\n",
        "            x, y = _stack.pop()\n",
        "\n",
        "    #Break random wall\n",
        "    # for i in range(max(1, int(width * height / 20 ))):\n",
        "    #     x, y, u, v = random.choice(wall)\n",
        "    #     breakWall(x, y, u, v)\n",
        "    #     wall.remove((x, y, u, v))\n",
        "\n",
        "    draw_maze()\n",
        "\n",
        "def print_cell(x, y, color):\n",
        "    if(x,y) == source or (x,y) == destination:\n",
        "        color = \"red\"\n",
        "    x1 = 10 + x*length\n",
        "    x2 = x1 + length\n",
        "    y1 = 10 + y*length\n",
        "    y2 = y1 + length\n",
        "    inner_offset = 0\n",
        "    canvas.create_rectangle(x1 + inner_offset, y1 + inner_offset,\n",
        "                        x2 - inner_offset, y2 - inner_offset,\n",
        "                        fill=color, outline='')\n",
        "    if maze_map[x,y]['T'] == 0:\n",
        "        canvas.create_line(x1, y1, x2, y1, width=2, fill=\"black\")  # Cạnh trên\n",
        "    if maze_map[x,y]['R'] == 0:\n",
        "        canvas.create_line(x2, y1, x2, y2, width=2, fill=\"black\")  # Cạnh phải\n",
        "    if maze_map[x,y]['B'] == 0:\n",
        "        canvas.create_line(x2, y2, x1, y2, width=2, fill=\"black\")  # Cạnh dưới\n",
        "    if maze_map[x,y]['L'] == 0:\n",
        "        canvas.create_line(x1, y2, x1, y1, width=2, fill=\"black\")  # Cạnh trái\n",
        "\n",
        "def tracePath(Path, index, color, onComplete=None):\n",
        "    if len(Path) == 0:\n",
        "        if onComplete:\n",
        "            onComplete()\n",
        "        return\n",
        "\n",
        "    x, y = Path[index]\n",
        "    print_cell(x, y, color)\n",
        "    Path.pop(index)\n",
        "    if len(Path) != 0:\n",
        "        window.after(speed, tracePath, Path, index, color, onComplete)\n",
        "    else:\n",
        "        if onComplete:\n",
        "            window.after(200, onComplete)\n",
        "\n",
        "def Sol():\n",
        "    print_cell(source[0], source[1], \"tomato\")\n",
        "    print_cell(destination[0], destination[1], \"tomato\")\n",
        "\n",
        "    searchPath, fwdPath = MSA.aStar(maze_map, width, height, source, destination)\n",
        "\n",
        "    tracePath(searchPath, 0, \"DeepSkyBlue2\", lambda: tracePath(fwdPath, -1, \"yellow2\"))\n",
        "    a_star_path_len.set(f\"A Star Path Length : {len(fwdPath)+1}\")\n",
        "    a_star_search_len.set(f\"A Star Search Length : {len(searchPath)}\")\n",
        "\n",
        "\n",
        "def checkSizeOfMaze():\n",
        "    try:\n",
        "        global height\n",
        "        global width\n",
        "        height = int(height_entry.get())\n",
        "        width = int(width_entry.get())\n",
        "\n",
        "        if 0 < width <= 120 and 0 < height <= 80:\n",
        "            global width_var\n",
        "            global height_var\n",
        "            width_var.set(f\"X (default X = {(width-1)}):\")\n",
        "            height_var.set(f\"Y (default Y = {(height-1)}):\")\n",
        "            global destination\n",
        "            destination = (width - 1, height - 1)\n",
        "            global speed\n",
        "            if (width * height) <= 100:\n",
        "                speed = 200\n",
        "            elif (width * height) <= 500:\n",
        "                speed = 100\n",
        "            elif (width * height) <= 5000:\n",
        "                speed = 50\n",
        "            else:\n",
        "                speed = 20\n",
        "\n",
        "            global length\n",
        "            length = int(min((scr_width-310) / (width+5), (scr_height-50) / (height+5)))\n",
        "            create_maze()\n",
        "        else:\n",
        "            messagebox.showerror(\"Error\", \"Please enter valid values within the specified limits.\")\n",
        "    except ValueError:\n",
        "        messagebox.showerror(\"Error\", \"Please enter integer values for length and width.\")\n",
        "\n",
        "def validate_coordinates(x_entry, y_entry, width, height, typ):\n",
        "    try:\n",
        "        x_value = x_entry.get()\n",
        "        y_value = y_entry.get()\n",
        "        if x_value and y_value:\n",
        "            x = int(x_value)\n",
        "            y = int(y_value)\n",
        "            if 0 <= x < width and 0 <= y < height:\n",
        "                if typ == 0:\n",
        "                    global source\n",
        "                    source = (x,y)\n",
        "                else:\n",
        "                    global destination\n",
        "                    destination = (x,y)\n",
        "                return True\n",
        "            else:\n",
        "                messagebox.showerror(\n",
        "                    \"Invalid Coordinate\",\n",
        "                    f\"Error: Coordinate ({x}, {y}) is out of bounds. It must be within (0, 0) to ({width-1}, {height-1}).\"\n",
        "                )\n",
        "                return False\n",
        "        else:\n",
        "            return True\n",
        "    except ValueError:\n",
        "        messagebox.showerror(\n",
        "            \"Invalid Input\",\n",
        "            \"Error: Coordinate values must be integers.\"\n",
        "        )\n",
        "        return False\n",
        "\n",
        "if __name__=='__main__':\n",
        "    Label(frame, text='Enter the width of the maze (Max 120):').grid(row=0)\n",
        "    Label(frame, text='Enter the height of the maze (Max 80):').grid(row=1)\n",
        "    width_entry = Entry(frame)\n",
        "    height_entry = Entry(frame)\n",
        "    width_entry.grid(row=0, column=1)\n",
        "    height_entry.grid(row=1, column=1)\n",
        "    button_create = tk.Button(frame, text=\"Create\", command=lambda: checkSizeOfMaze()).grid(row=3)\n",
        "    Label(frame, text='Enter the source coordinate:').grid(row=4)\n",
        "    Label(frame, text=\"X (default X = 0):\").grid(row=5)\n",
        "    Label(frame, text=\"Y (default Y = 0):\").grid(row=6)\n",
        "    source_x = Entry(frame)\n",
        "    source_y = Entry(frame)\n",
        "    source_x.grid(row=5, column=1)\n",
        "    source_y.grid(row=6, column=1)\n",
        "    Label(frame, text='Enter the destination coordinate:').grid(row=7)\n",
        "    Label(frame, textvariable = width_var).grid(row=8)\n",
        "    Label(frame, textvariable = height_var).grid(row=9)\n",
        "    destination_x = Entry(frame)\n",
        "    destination_y = Entry(frame)\n",
        "    destination_x.grid(row=8, column=1)\n",
        "    destination_y.grid(row=9, column=1)\n",
        "    button_create = tk.Button(frame, text=\"A Star Algorithm\", command=lambda: (\n",
        "        validate_coordinates(source_x, source_y, width, height, 0) and\n",
        "        validate_coordinates(destination_x, destination_y, width, height, 1) and\n",
        "        Sol()\n",
        "    )).grid(row=12)\n",
        "    Label(frame,textvariable = a_star_path_len).grid(row=13)\n",
        "    Label(frame,textvariable = a_star_search_len).grid(row=14)\n",
        "    window.mainloop()"
      ]
    },
    {
      "cell_type": "markdown",
      "metadata": {
        "id": "ve3-_DhKz6J6"
      },
      "source": [
        "### Kết quả, vấn đề gặp phải\n"
      ]
    },
    {
      "cell_type": "markdown",
      "metadata": {
        "id": "VMS3oBVVxlT7"
      },
      "source": [
        "#### 1. Kết quả\n",
        "- Đã hoàn thành thuật toán A* ở mức độ cơ bản\n",
        "- Đã chạy được trên giao diện\n"
      ]
    },
    {
      "cell_type": "markdown",
      "metadata": {
        "id": "XDTuEaY1xyJH"
      },
      "source": [
        "#### 2. Vấn đề gặp phải\n",
        "\n",
        "- Chưa tối ưu được giao diện\n",
        "- Chưa xử lý được chạy đồng thời thuật toán A* và Greedy BFS"
      ]
    },
    {
      "cell_type": "markdown",
      "metadata": {
        "id": "DFD8jejZz6J6"
      },
      "source": [
        "## 4. Cập nhật kết quả cuối kỳ (W15)"
      ]
    },
    {
      "cell_type": "markdown",
      "metadata": {
        "id": "y77u6mXJz6J6"
      },
      "source": [
        "### Chi tiết phương pháp, dữ liệu\n",
        "\n",
        "\n",
        "\n",
        "\n"
      ]
    },
    {
      "cell_type": "markdown",
      "metadata": {
        "id": "PVmqSN6qz6J6"
      },
      "source": [
        "#### 1. Giải quyết bài toán bằng thuật toán A*\n",
        "\n",
        "##### 1.1 Đặc điểm\n",
        "- Nếu không gian các trạng thái là hữu hạn và có giải pháp để tránh việc xét (lặp) lại các trạng thái, thì giải thuật A* là hoàn chỉnh (tìm được lời giải) – nhưng không đảm bảo là tối ưu.\n",
        "- Nếu không gian các trạng thái là hữu hạn và không có giải pháp để tránh việc xét (lặp) lại các trạng thái, thì giải thuật A* là không hoàn chỉnh (không đảm bảo tìm được lời giải)\n",
        "- Nếu không gian các trạng thái là vô hạn, thì giải thuật A* là không hoàn chỉnh (không đảm bảo tìm được lời giải)\n",
        "\n",
        "##### 1.2. Cài đặt thuật toán\n",
        "\n",
        "**Quy ước**\n",
        "- FRINGE : là hàng đợi ưu tiên chứa các node con sinh ra mà chưa được xét đến.\n",
        "- CLOSED : tập các trạng thái đã xét, các trạng thái con được sinh ra sẽ được kiểm tra, nếu đã tồn tại trong CLOSED thì không thêm vào FRINGE nữa.\n",
        "- RESULT: tập trạng thái từ trạng thái hiện tại cho đến đích.\n",
        "- CHILD: tập node con của một node bất kỳ.\n",
        "\n",
        "**Cài đặt**<br>\n",
        "\n",
        "*Bước 1*\n",
        "- RESULT = {}\n",
        "- startNode.f = startNode.h = đánh giá heuristic từ startNode đến goalNode\n",
        "- startNode.g = 0\n",
        "- totalNodes = approvedNodes = 0\n",
        "- FRINGE = {startNode}\n",
        "\n",
        "*Bước 2* <br>\n",
        "\n",
        "While(FRINGE != {})\n",
        "- Nếu có yêu cầu dừng\n",
        "    - FRINGE.clear()\n",
        "    - CHILD.clear()\n",
        "    - CLOSED.clear()\n",
        "- Tìm node có đánh giá f(n) nhỏ nhất trong FRINGE và gán cho currentNode\n",
        "- Nếu currentNode là goalNode\n",
        "    - totalNodes = approvedNodes + FRINGE.size()\n",
        "    - Thêm kết quả và RESULT\n",
        "    - FRINGE.clear()\n",
        "    - CHILD.clear()\n",
        "    - CLOSED.clear()\n",
        "    - Dừng thuật toán\n",
        "- Thiết lập các node con của currentNode vào CHILD\n",
        "    - Loại những node có trạng thái đã xét ra khỏi CHILD\n",
        "- Đưa các node con vào FRINGE\n",
        "    - Đặt child của các node con là currentNode\n",
        "    - Tính chi phí từ đầu đến node con = currentNode + 1\n",
        "    - Tính hàm ước lượng của các node con đến goalNode\n",
        "    - Tính hàm f = g + h\n",
        "- CHILD.clear()\n",
        "- approvedNodes++\n",
        "\n",
        "\n",
        "\n"
      ]
    },
    {
      "cell_type": "markdown",
      "metadata": {
        "id": "mZr4TAQWpitg"
      },
      "source": [
        "\n",
        "#### 2. Giải quyết bài toán bằng thuật toán Greedy BFS (Beadth-First Search)\n",
        "\n",
        "##### 2.1. Đặc điểm<br>\n",
        "\n",
        "\n",
        "**Ưu điểm**\n",
        "- Tốc độ tìm kiếm nhanh nhờ ưu tiên các đỉnh có giá trị heuristic tốt nhất.\n",
        "- Hiệu quả trong việc tìm kiếm đường đi nếu hàm heuristic được định nghĩa chính xác.\n",
        "- Tiêu tốn ít bộ nhớ hơn so với BFS vì tập trung vào các đỉnh tiềm năng thay vì duyệt toàn bộ không gian.\n",
        "\n",
        "**Nhược điểm**\n",
        "- Không đảm bảo tìm được đường đi ngắn nhất, vì không sử dụng trọng số thực trên các cạnh.\n",
        "- Có thể bị kẹt ở các nút cục bộ tối ưu (local optimum) nếu heuristic không chính xác.\n",
        "- Kết quả phụ thuộc rất nhiều vào độ chính xác của hàm heuris\n",
        "\n",
        "**Áp dụng**\n",
        "- Trạng thái: Mỗi trạng thái hoặc mỗi node được biểu diễn bằng một đỉnh trong đồ thị.\n",
        "- Hàm heuristic: Giá trị heuristic là ước lượng chi phí từ đỉnh hiện tại đến đích, do đó, việc định nghĩa hàm này rất quan trọng.\n",
        "- Kết quả: Kết quả tìm được là đường đi từ đỉnh xuất phát đến đích thông qua các đỉnh có giá trị heuristic tốt nhất.\n",
        "\n",
        "#### 2.2 Cài đặt thuật toán\n",
        "\n",
        "**Quy ước**\n",
        "- FRINGE: Là hàng đợi ưu tiên (priority queue) chứa các đỉnh cần duyệt, sắp xếp theo giá trị heuristic.\n",
        "- RESULT: Tập các trạng thái tạo thành đường đi từ trạng thái bắt đầu đến đích.\n",
        "- CHILD: Tập các đỉnh kề (node con) của một đỉnh bất kỳ.\n",
        "\n",
        "**Cài đặt**<br>\n",
        "\n",
        "*Bước 1*\n",
        "- RESULT = {}\n",
        "- startNode.f = startNode.h = đánh giá heuristic từ startNode đến goalNode\n",
        "- totalNodes = approvedNodes = 0\n",
        "- FRINGE = {startNode}\n",
        "\n",
        "*Bước 2* <br>\n",
        "\n",
        "While(FRINGE != {})\n",
        "- Nếu có yêu cầu dừng\n",
        "    - FRINGE.clear()\n",
        "    - CHILD.clear()\n",
        "    - CLOSED.clear()\n",
        "- Tìm node có đánh giá f(n) nhỏ nhất trong FRINGE và gán cho currentNode\n",
        "- Nếu currentNode là goalNode\n",
        "    - totalNodes = approvedNodes + FRINGE.size()\n",
        "    - Thêm kết quả và RESULT\n",
        "    - FRINGE.clear()\n",
        "    - CHILD.clear()\n",
        "    - CLOSED.clear()\n",
        "    - Dừng thuật toán\n",
        "- Thiết lập các node con của currentNode vào CHILD\n",
        "    - Loại những node có trạng thái đã xét ra khỏi CHILD\n",
        "- Đưa các node con vào FRINGE\n",
        "    - Đặt child của các node con là currentNode\n",
        "    - Tính hàm ước lượng của các node con đến goalNode\n",
        "    - Tính hàm f = h\n",
        "- CHILD.clear()\n",
        "- approvedNodes++"
      ]
    },
    {
      "cell_type": "markdown",
      "metadata": {
        "id": "ful9dpMnz6J7"
      },
      "source": [
        "### Chương trình\n",
        "Đường dẫn tới mã nguồn đầy đủ: https://github.com/PhucNguyen204/Project-Intro-to-A.I-IT3160-G11.git"
      ]
    },
    {
      "cell_type": "markdown",
      "metadata": {
        "id": "G5bczJfcCFYL"
      },
      "source": [
        "#### 1. Xây dựng mê cung (MazeLogic.py)<br>\n"
      ]
    },
    {
      "cell_type": "markdown",
      "metadata": {
        "id": "J1oQgBafpitg"
      },
      "source": [
        "1.1 Hàm khởi tạo"
      ]
    },
    {
      "cell_type": "code",
      "execution_count": 19,
      "metadata": {
        "id": "kqT7IF7ZCWGi"
      },
      "outputs": [],
      "source": [
        "def __init__(self, width, height):\n",
        "    self.scene = QtWidgets.QGraphicsScene()\n",
        "    self.width = width\n",
        "    self.height = height\n",
        "    self.grid = []\n",
        "    self.maze_map = {}\n",
        "    self._stack = []\n",
        "    self._closed = []\n",
        "    self.source =(0,0)\n",
        "    self.destination = (width - 1, height - 1)\n",
        "    self.cell_size = 20"
      ]
    },
    {
      "cell_type": "markdown",
      "metadata": {
        "id": "F3IhhieECgFI"
      },
      "source": [
        "1.2 Tạo mê cung ngẫu nhiên sử dụng thuật toán DFS"
      ]
    },
    {
      "cell_type": "code",
      "execution_count": 20,
      "metadata": {
        "id": "BgSV5yP5CYot"
      },
      "outputs": [],
      "source": [
        "#Tạo một mê cung ngẫu nhiên sử dụng thuật toán DFS (Depth First Search).\n",
        "def create_maze(self, width_entry, height_entry):\n",
        "    self.width = width_entry\n",
        "    self.height = height_entry\n",
        "    # Initialize grid and maze map\n",
        "    self.grid = [(x, y) for x in range(self.width) for y in range(self.height)]\n",
        "    self.maze_map = {(x, y): {'T': 0, 'B': 0, 'L': 0, 'R': 0} for x, y in self.grid}\n",
        "\n",
        "    # Start maze generation\n",
        "    x, y = 0, 0\n",
        "    self._stack = [(x, y)]\n",
        "    self._closed = [(x, y)]\n",
        "    directions = [(0, 1), (0, -1), (1, 0), (-1, 0)]\n",
        "\n",
        "    while self._stack:\n",
        "        cell = []\n",
        "        for dx, dy in directions:\n",
        "            u, v = x + dx, y + dy\n",
        "            if (u, v) not in self._closed and (u, v) in self.grid:\n",
        "                cell.append((u, v))\n",
        "\n",
        "        if cell:\n",
        "            u, v = random.choice(cell)\n",
        "            self.break_wall(x, y, u, v)\n",
        "            self._closed.append((u, v))\n",
        "            self._stack.append((u, v))\n",
        "            x, y = u, v\n",
        "        else:\n",
        "            x, y = self._stack.pop()\n",
        "\n",
        "    # Thêm các vòng lặp ngẫu nhiên với tỷ lệ 20%\n",
        "    self.add_random_loops(percentage_loop=20)\n",
        "    # print(\"Maze created:\", self.maze_map)\n"
      ]
    },
    {
      "cell_type": "markdown",
      "metadata": {
        "id": "WOU54NxeCnKn"
      },
      "source": [
        "1.3 Tối ưu mê cung bằng cách phá vỡ tường giữa hai ô liền kề trong mê cung"
      ]
    },
    {
      "cell_type": "code",
      "execution_count": null,
      "metadata": {
        "id": "gt1mNJyipith"
      },
      "outputs": [],
      "source": []
    },
    {
      "cell_type": "code",
      "execution_count": 21,
      "metadata": {
        "id": "RKcPVkXOCm97"
      },
      "outputs": [],
      "source": [
        "def break_wall(self, x1, y1, x2, y2):\n",
        "        # Break the wall between two cells\n",
        "        #T - top edge of the cell\n",
        "        #R - right edge of the cell\n",
        "        #B - bottom edge of the cell\n",
        "        #L - left edge of the cell\n",
        "        if x1 == x2:\n",
        "            if y1 + 1 == y2:\n",
        "                self.maze_map[(x1, y1)]['B'] = 1\n",
        "                self.maze_map[(x2, y2)]['T'] = 1\n",
        "            else:\n",
        "                self.maze_map[(x1, y1)]['T'] = 1\n",
        "                self.maze_map[(x2, y2)]['B'] = 1\n",
        "        else:\n",
        "            if x1 + 1 == x2:\n",
        "                self.maze_map[(x1, y1)]['R'] = 1\n",
        "                self.maze_map[(x2, y2)]['L'] = 1\n",
        "            else:\n",
        "                self.maze_map[(x1, y1)]['L'] = 1\n",
        "                self.maze_map[(x2, y2)]['R'] = 1\n"
      ]
    },
    {
      "cell_type": "markdown",
      "metadata": {
        "id": "Uvqa73QGpith"
      },
      "source": [
        "1.4. Tạo vòng lặp ngẫu nhiên với tỉ lệ 20%"
      ]
    },
    {
      "cell_type": "code",
      "execution_count": 22,
      "metadata": {
        "id": "sFXHYHCzpith"
      },
      "outputs": [],
      "source": [
        "def add_random_loops(self, percentage_loop):\n",
        "    total_cells = self.width * self.height\n",
        "    loops_to_create = int(total_cells * percentage_loop / 100)\n",
        "    directions = {'T': (0, -1), 'B': (0, 1), 'L': (-1, 0), 'R': (1, 0)}\n",
        "\n",
        "    def is_valid_removal(x1, y1, direction):\n",
        "        dx, dy = directions[direction]\n",
        "        x2, y2 = x1 + dx, y1 + dy\n",
        "        if (x2, y2) not in self.maze_map:\n",
        "            return False\n",
        "        if self.maze_map[(x1, y1)][direction] == 1:\n",
        "            return False\n",
        "        return True\n",
        "\n",
        "    while loops_to_create > 0:\n",
        "        x1, y1 = random.randint(0, self.width - 1), random.randint(0, self.height - 1)\n",
        "        possible_directions = list(directions.keys())\n",
        "        random.shuffle(possible_directions)\n",
        "\n",
        "        for direction in possible_directions:\n",
        "            if is_valid_removal(x1, y1, direction):\n",
        "                dx, dy = directions[direction]\n",
        "                x2, y2 = x1 + dx, y1 + dy\n",
        "                self.break_wall(x1, y1, x2, y2)\n",
        "                loops_to_create -= 1\n",
        "                break\n"
      ]
    },
    {
      "cell_type": "markdown",
      "metadata": {
        "id": "DwcHRJ97DjvV"
      },
      "source": [
        "1.5 Kiểm tra và khởi tạo kích thước của mê cung dựa trên đầu vào của người dùng giao diện"
      ]
    },
    {
      "cell_type": "code",
      "execution_count": 23,
      "metadata": {
        "id": "5wvYvGorDjqC"
      },
      "outputs": [],
      "source": [
        "#Mục đích: Kiểm tra và khởi tạo kích thước mê cung dựa trên đầu vào\n",
        "def check_size_of_maze(self, width_entry, height_entry, widget_width, widget_height):\n",
        "    try:\n",
        "        self.width = width_entry\n",
        "        self.height = height_entry\n",
        "\n",
        "        if not (0 < self.width <= 50 and 0 < self.height <= 50):\n",
        "            QtWidgets.QMessageBox.warning(None, \"Error\", \"Maze dimensions are out of bounds! Width must be between 1-50, height must be between 1-50.\")\n",
        "            return\n",
        "\n",
        "        padding = 0  # Chừa khoảng trống\n",
        "        # size of a square of maze\n",
        "        self.cell_size = min(\n",
        "            (widget_width - padding) // self.width,\n",
        "            (widget_height - padding) // self.height\n",
        "        )\n",
        "        if self.cell_size <= 0:\n",
        "            QtWidgets.QMessageBox.warning(None, \"Error\", \"Widget size is too small for this maze!\")\n",
        "            return\n",
        "\n",
        "        # Cập nhật đích đến và tạo mê cung\n",
        "        #\n",
        "        self.destination = (self.width - 1, self.height - 1)\n",
        "\n",
        "        print(f\"Maze created with dimensions: {self.width}x{self.height}, Cell size: {self.cell_size}\")\n",
        "\n",
        "    except ValueError as e:\n",
        "        QtWidgets.QMessageBox.warning(None, \"Error\", f\"Invalid input: {e}\")\n"
      ]
    },
    {
      "cell_type": "markdown",
      "metadata": {
        "id": "H8JvgYhNElmB"
      },
      "source": [
        "1.6 Kiểm tra tính hợp lệ khi người dùng giao diện chọn ô bắt đầu và ô kết thúc"
      ]
    },
    {
      "cell_type": "code",
      "execution_count": 24,
      "metadata": {
        "id": "iswlfKhwEla9"
      },
      "outputs": [],
      "source": [
        "#Kiểm tra tính hợp lệ của tọa độ đầu vào (ô bắt đầu hoặc ô kết thúc).\n",
        "def validate_coordinates(self, x_entry, y_entry, typ):\n",
        "    try:\n",
        "        x_value = x_entry\n",
        "        y_value = y_entry\n",
        "        if x_value and y_value:\n",
        "            x = int(x_value)\n",
        "            y = int(y_value)\n",
        "            if 0 <= x < self.width and 0 <= y < self.height:\n",
        "                if typ == 0:\n",
        "                    self.source = (x, y)\n",
        "                else:\n",
        "                    self.destination = (x, y)\n",
        "                return True\n",
        "            else:\n",
        "                messagebox.showerror(\n",
        "                    \"Invalid Coordinate\",\n",
        "                    f\"Error: Coordinate ({x}, {y}) is out of bounds. It must be within (0, 0) to ({self.width-1}, {self.height-1}).\"\n",
        "                )\n",
        "                return False\n",
        "        else:\n",
        "            return True\n",
        "    except ValueError:\n",
        "        messagebox.showerror(\n",
        "            \"Invalid Input\",\n",
        "            \"Error: Coordinate values must be integers.\"\n",
        "        )\n",
        "        return False"
      ]
    },
    {
      "cell_type": "markdown",
      "metadata": {
        "id": "0vu-XzSw8Gt7"
      },
      "source": [
        "#### 2. Cài đặt thuật toán (MazeSolvingAlgorithm.py)"
      ]
    },
    {
      "cell_type": "markdown",
      "metadata": {
        "id": "Ca_rypvkpith"
      },
      "source": [
        "2.1. Cài đặt hàm Heuristic h1: Khoảng cách Manhattan của vị trí hiện tại với vị trí đích"
      ]
    },
    {
      "cell_type": "code",
      "execution_count": 25,
      "metadata": {
        "id": "2sP8tsq683Ah"
      },
      "outputs": [],
      "source": [
        "import math\n",
        "def h1(cell1, cell2):\n",
        "    x1, y1 = cell1\n",
        "    x2, y2 = cell2\n",
        "    return abs(x1 - x2) + abs(y1 - y2)"
      ]
    },
    {
      "cell_type": "markdown",
      "metadata": {
        "id": "buusYFXT9HD7"
      },
      "source": [
        "2.2. Hàm Heuristic H2: Khoảng cách Euler của vị trí hiện tại với vị trí đích"
      ]
    },
    {
      "cell_type": "code",
      "execution_count": 26,
      "metadata": {
        "id": "19SieJZt9DLA"
      },
      "outputs": [],
      "source": [
        "import math\n",
        "def h2(cell1, cell2):\n",
        "    x1, y1 = cell1\n",
        "    x2, y2 = cell2\n",
        "    return math.sqrt((x1 - x2) ** 2 + (y1 - y2) ** 2)"
      ]
    },
    {
      "cell_type": "markdown",
      "metadata": {
        "id": "-uAoMfNk9b2M"
      },
      "source": [
        "2.3. Cài đặt thuật toán A*<br>\n",
        "\n",
        "**Các tham số đầu vào**<br>\n",
        "- maze_map: Cấu trúc của mê cung\n",
        "- width: Chiều rộng của mê cung.\n",
        "- height: Chiều cao của mê cung.\n",
        "- source: Ô bắt đầu.\n",
        "- destination: Ô đích.\n",
        "- typ: Tham số chỉ ra hàm heuristic nào sẽ được sử dụng. Nếu typ là 1, hàm heuristic h1 (khoảng cách Manhattan) sẽ được sử dụng. Nếu typ là 2, hàm heuristic h2 (khoảng cách Euclid) sẽ được sử dụng.\n",
        "\n",
        "**Hàm này trả về**\n",
        "- searchPath: Danh sách các ô đã duyệt.\n",
        "- fwdPath: Trả về các ô thuộc đường đi ngắn nhất theo thuật toán A*.\n"
      ]
    },
    {
      "cell_type": "code",
      "execution_count": 27,
      "metadata": {
        "id": "SAW9EeVi9bjU"
      },
      "outputs": [],
      "source": [
        "from queue import PriorityQueue\n",
        "def aStar(maze_map, width, height, source, destination, typ):\n",
        "    g_score = {cell: float('inf') for x in range(width) for y in range(height) for cell in [(x, y)]}\n",
        "    f_score = {cell: float('inf') for x in range(width) for y in range(height) for cell in [(x, y)]}\n",
        "    g_score[source] = 0\n",
        "    f_score[source] = h1(source, destination) if typ == 1 else h2(source, destination)\n",
        "\n",
        "    open = PriorityQueue()\n",
        "    open.put((f_score[source], source))\n",
        "    searchPath = []\n",
        "    aPath = {}\n",
        "    closed_set = set()\n",
        "\n",
        "    while not open.empty():\n",
        "        currCell = open.get()[1]\n",
        "        if currCell in closed_set:\n",
        "            continue\n",
        "\n",
        "        closed_set.add(currCell)\n",
        "        searchPath.append(currCell)\n",
        "\n",
        "        if currCell == destination:\n",
        "            break\n",
        "\n",
        "        directions = {\n",
        "            'T': (0, -1),\n",
        "            'R': (1, 0),\n",
        "            'B': (0, 1),\n",
        "            'L': (-1, 0)\n",
        "        }\n",
        "\n",
        "        for direction, (dx, dy) in directions.items():\n",
        "            if maze_map[currCell][direction] == 1:\n",
        "                childCell = (currCell[0] + dx, currCell[1] + dy)\n",
        "                temp_g_score = g_score[currCell] + 1\n",
        "                temp_f_score = temp_g_score + (h1(childCell, destination) if typ == 1 else h2(childCell, destination))\n",
        "\n",
        "                if temp_f_score < f_score[childCell]:\n",
        "                    aPath[childCell] = currCell\n",
        "                    g_score[childCell] = temp_g_score\n",
        "                    f_score[childCell] = temp_f_score\n",
        "                    open.put((temp_f_score, childCell))\n",
        "\n",
        "    if destination not in aPath:\n",
        "        return searchPath, []  # No path found\n",
        "\n",
        "    fwdPath = []\n",
        "    cell = destination\n",
        "    while cell != source:\n",
        "        fwdPath.append(cell)\n",
        "        cell = aPath[cell]\n",
        "    fwdPath.append(source)\n",
        "    fwdPath.reverse()\n",
        "    return searchPath, fwdPath"
      ]
    },
    {
      "cell_type": "markdown",
      "metadata": {
        "id": "0U7_c6nd-q6B"
      },
      "source": [
        "2.4. Cài đặt thuật toán Greedy BFS\n",
        "\n",
        "**Các tham số đầu vào**<br>\n",
        "- maze_map: Cấu trúc của mê cung\n",
        "- width: Chiều rộng của mê cung.\n",
        "- height: Chiều cao của mê cung.\n",
        "- source: Ô bắt đầu.\n",
        "- destination: Ô đích.\n",
        "- typ: Tham số chỉ ra hàm heuristic nào sẽ được sử dụng. Nếu typ là 1, hàm heuristic h1 (khoảng cách Manhattan) sẽ được sử dụng. Nếu typ là 2, hàm heuristic h2 (khoảng cách Euclid) sẽ được sử dụng.\n",
        "\n",
        "**Hàm này trả về**\n",
        "- searchPath: Danh sách các ô đã duyệt.\n",
        "- fwdPath: Trả về các ô thuộc đường đi theo thuật toán Greedy BFS.\n",
        "\n",
        "\n"
      ]
    },
    {
      "cell_type": "code",
      "execution_count": 28,
      "metadata": {
        "id": "ZE_ghAsL-yr8"
      },
      "outputs": [],
      "source": [
        "from queue import PriorityQueue\n",
        "def greedyBFS(maze_map, width, height, source, destination, typ):\n",
        "    f_score = {cell: float('inf') for x in range(width) for y in range(height) for cell in [(x, y)]}\n",
        "    f_score[source] = h1(source, destination) if typ == 1 else h2(source, destination)\n",
        "\n",
        "    open = PriorityQueue()\n",
        "    open.put((f_score[source], source))\n",
        "    searchPath = []\n",
        "    aPath = {}\n",
        "    closed_set = set()\n",
        "\n",
        "    while not open.empty():\n",
        "        currCell = open.get()[1]\n",
        "        if currCell in closed_set:\n",
        "            continue\n",
        "\n",
        "        closed_set.add(currCell)\n",
        "        searchPath.append(currCell)\n",
        "\n",
        "        if currCell == destination:\n",
        "            break\n",
        "\n",
        "        directions = {\n",
        "            'T': (0, -1),\n",
        "            'R': (1, 0),\n",
        "            'B': (0, 1),\n",
        "            'L': (-1, 0)\n",
        "        }\n",
        "\n",
        "        for direction, (dx, dy) in directions.items():\n",
        "            if maze_map[currCell][direction] == 1:\n",
        "                childCell = (currCell[0] + dx, currCell[1] + dy)\n",
        "                temp_f_score = h1(childCell, destination) if typ == 1 else h2(childCell, destination)\n",
        "\n",
        "                if temp_f_score < f_score[childCell]:\n",
        "                    aPath[childCell] = currCell\n",
        "                    f_score[childCell] = temp_f_score\n",
        "                    open.put((temp_f_score, childCell))\n",
        "\n",
        "    if destination not in aPath:\n",
        "        return searchPath, []  # No path found\n",
        "\n",
        "    fwdPath = []\n",
        "    cell = destination\n",
        "    while cell != source:\n",
        "        fwdPath.append(cell)\n",
        "        cell = aPath[cell]\n",
        "    fwdPath.append(source)\n",
        "    fwdPath.reverse()\n",
        "    return searchPath, fwdPath"
      ]
    },
    {
      "cell_type": "markdown",
      "metadata": {
        "id": "pUkzpkiK_FkD"
      },
      "source": [
        "#### 3. Xây dựng Widget hiển thị mê cung và thay đổi khi thực hiện thuật toán ( MazeWidget.py )\n"
      ]
    },
    {
      "cell_type": "markdown",
      "metadata": {
        "id": "8TnSg0MRpitm"
      },
      "source": [
        "3.1 Hàm khởi tạo"
      ]
    },
    {
      "cell_type": "code",
      "execution_count": 29,
      "metadata": {
        "id": "gDLZxaAoFkZB"
      },
      "outputs": [],
      "source": [
        "def __init__(self, parent=None, width=10, height=10, cell_size=20):\n",
        "    super().__init__(parent)\n",
        "    self.maze_logic = MazeLogic(width, height)  # Khởi tạo MazeLogic\n",
        "    self.cell_size = cell_size\n",
        "    self.width = width\n",
        "    self.height = height\n",
        "    self.maze_map = {}\n",
        "\n",
        "    # Tạo nhãn hiển thị thông tin\n",
        "    self.path_len_label = QLabel(\"A Star Path Length: 0\", self)\n",
        "    self.search_len_label = QLabel(\"A Star Search Length: 0\", self)\n",
        "\n",
        "    # Tạo Scene và View để hiển thị mê cung\n",
        "    self.scene = QGraphicsScene(self)\n",
        "    self.view = QGraphicsView(self.scene, self)\n",
        "\n",
        "    # Tạo layout và thêm các thành phần\n",
        "    layout = QVBoxLayout(self)\n",
        "    layout.addWidget(self.path_len_label)\n",
        "    layout.addWidget(self.search_len_label)\n",
        "    layout.addWidget(self.view)\n",
        "    self.setLayout(layout)\n",
        "\n",
        "    self.source =(0,0)\n",
        "    self.destination = (width - 1, height - 1)\n"
      ]
    },
    {
      "cell_type": "markdown",
      "metadata": {
        "id": "AVvD5_mupitm"
      },
      "source": [
        "3.2 Thiết lập các tham số của mê cung và gọi hàm vẽ mê cung lên scene"
      ]
    },
    {
      "cell_type": "code",
      "execution_count": 30,
      "metadata": {
        "id": "oU0HcJ0hpitm"
      },
      "outputs": [],
      "source": [
        "def create_maze(self, width, height):\n",
        "    # Lấy kích thước của view\n",
        "    view_width = self.view.viewport().width()\n",
        "    view_height = self.view.viewport().height()\n",
        "\n",
        "    # Tính toán kích thước ô (cell_size) dựa trên kích thước view và số ô\n",
        "    self.cell_size = min(view_width // width, view_height // height)\n",
        "\n",
        "    # Cập nhật lại kích thước scene để vừa với view\n",
        "    scene_width = self.cell_size * width\n",
        "    scene_height = self.cell_size * height\n",
        "    self.scene.setSceneRect(0, 0, scene_width, scene_height)\n",
        "\n",
        "    self.path_len_label.setText(f\"A Star Path Length: 0\")\n",
        "    self.search_len_label.setText(f\"A Star Search Length: 0\")\n",
        "\n",
        "    # Cập nhật maze_logic\n",
        "    self.width = width\n",
        "    self.height = height\n",
        "    self.maze_logic.check_size_of_maze(width, height, scene_width, scene_height)\n",
        "    self.maze_map = self.maze_logic.maze_map\n",
        "    # Vẽ mê cung lên scene\n",
        "    self.draw_maze_on_scene()"
      ]
    },
    {
      "cell_type": "markdown",
      "metadata": {
        "id": "VerW2tsqpitn"
      },
      "source": [
        "3.3. Hàm vẽ mê cung"
      ]
    },
    {
      "cell_type": "code",
      "execution_count": 31,
      "metadata": {
        "id": "R2Ihgczkpitn"
      },
      "outputs": [],
      "source": [
        "def draw_maze_on_scene(self):\n",
        "    \"\"\"Vẽ mê cung từ maze_map lên QGraphicsScene.\"\"\"\n",
        "    self.scene.clear()  # Xóa nội dung cũ\n",
        "\n",
        "    for (x, y), edges in self.maze_map.items():\n",
        "        x1 = x * self.cell_size\n",
        "        y1 = y * self.cell_size\n",
        "        x2 = x1 + self.cell_size\n",
        "        y2 = y1 + self.cell_size\n",
        "\n",
        "        # Vẽ các cạnh của ô dựa trên thông tin trong maze_map\n",
        "        if edges['T'] == 0:  # Cạnh trên\n",
        "            self.scene.addLine(x1, y1, x2, y1, QPen(Qt.black, 2))\n",
        "        if edges['R'] == 0:  # Cạnh phải\n",
        "            self.scene.addLine(x2, y1, x2, y2, QPen(Qt.black, 2))\n",
        "        if edges['B'] == 0:  # Cạnh dưới\n",
        "            self.scene.addLine(x2, y2, x1, y2, QPen(Qt.black, 2))\n",
        "        if edges['L'] == 0:  # Cạnh trái\n",
        "            self.scene.addLine(x1, y2, x1, y1, QPen(Qt.black, 2))"
      ]
    },
    {
      "cell_type": "markdown",
      "metadata": {
        "id": "7mty6Enkpitn"
      },
      "source": [
        "3.4. Hiển thị điểm bắt đầu và điểm kết thúc"
      ]
    },
    {
      "cell_type": "code",
      "execution_count": 32,
      "metadata": {
        "id": "JaFJjPQcpitn"
      },
      "outputs": [],
      "source": [
        "def display(self, source, destination):\n",
        "    self.source =source\n",
        "    self.destination = destination\n",
        "    # In các ô bắt đầu và kết thúc\n",
        "    self.print_cell(source[0], source[1], \"tomato\")\n",
        "    self.print_cell(destination[0], destination[1], \"tomato\")\n",
        "    self.scene.update()\n"
      ]
    },
    {
      "cell_type": "markdown",
      "metadata": {
        "id": "HiYr6xRRpitn"
      },
      "source": [
        "3.5. Tô màu một ô trong mê cung khi hiển thị duyệt và đường đi tìm thấy của thuật toán"
      ]
    },
    {
      "cell_type": "code",
      "execution_count": 33,
      "metadata": {
        "id": "A7tNpkPGpitn"
      },
      "outputs": [],
      "source": [
        "# Tô màu một ô trong mê cung.\n",
        "def print_cell(self, x, y, color):\n",
        "    if (x, y) == self.source or (x, y) == self.destination:\n",
        "        color = \"red\"  # Highlight source and destination\n",
        "\n",
        "    x1 = x * self.cell_size\n",
        "    y1 = y * self.cell_size\n",
        "    x2 = x1 + self.cell_size\n",
        "    y2 = y1 + self.cell_size\n",
        "\n",
        "    # Draw cell\n",
        "    rect = self.scene.addRect(x1, y1, x2 - x1, y2 - y1, QPen(Qt.NoPen), QColor(color))\n",
        "\n",
        "    # Draw maze edges\n",
        "    edges = self.maze_map.get((x, y), {})\n",
        "    if edges.get('T') == 0:\n",
        "        self.scene.addLine(x1, y1, x2, y1, QPen(Qt.black, 2))  # Top\n",
        "    if edges.get('R') == 0:\n",
        "        self.scene.addLine(x2, y1, x2, y2, QPen(Qt.black, 2))  # Right\n",
        "    if edges.get('B') == 0:\n",
        "        self.scene.addLine(x2, y2, x1, y2, QPen(Qt.black, 2))  # Bottom\n",
        "    if edges.get('L') == 0:\n",
        "        self.scene.addLine(x1, y2, x1, y1, QPen(Qt.black, 2))  # Left\n",
        "\n",
        "    self.scene.update()\n",
        "    self.view.viewport().update()"
      ]
    },
    {
      "cell_type": "markdown",
      "metadata": {
        "id": "J5dJPXdtpitn"
      },
      "source": [
        "3.6. Hiển thị các nút đã duyệt và đường đi tìm thấy trên giao diện.   \n"
      ]
    },
    {
      "cell_type": "code",
      "execution_count": 16,
      "metadata": {
        "id": "mk8tXAu3pitn"
      },
      "outputs": [],
      "source": [
        "def tracePath(self, Path, color, onComplete=None):\n",
        "    if len(Path) == 0:\n",
        "        print(\"TracePath: Path is empty.\")\n",
        "        if onComplete:\n",
        "            onComplete()\n",
        "        return\n",
        "\n",
        "    x, y = Path.pop(0)\n",
        "    self.print_cell(x, y, color)\n",
        "    if len(Path) > 0:\n",
        "        QTimer.singleShot(1, lambda: self.tracePath(Path, color, onComplete))\n",
        "    else:\n",
        "        if onComplete:\n",
        "            QTimer.singleShot(1, onComplete)\n"
      ]
    },
    {
      "cell_type": "markdown",
      "metadata": {
        "id": "xwBf8OMIpitn"
      },
      "source": [
        "3.7. Thực hiện thuật toán<br>\n",
        "\n",
        "**Các Tham số đầu vào**\n",
        "- source: Ô bắt đầu.\n",
        "- destination: Ô đích.\n",
        "- typ: Lựa chọn thuật toán tìm kiếm. Nếu `typ = 1` thì sử dụng thuật toán A*. Nếu `typ = 2` thì sử dụng thuật toán Greedy BFS.\n",
        "- typH: Lựa chọn hàm Heuristic. Nếu `typH = 1` thì sử dụng hàm Manhattan. Nếu `typh = 2` thì sử dụng hàm Euclid."
      ]
    },
    {
      "cell_type": "code",
      "execution_count": 17,
      "metadata": {
        "id": "t7wYIkHypitn"
      },
      "outputs": [],
      "source": [
        "def solve(self, source, destination, typ, typH):\n",
        "    # Thực hiện tìm đường (logic A* cần được cài đặt trong MazeLogic)\n",
        "    #search_path là danh sách các ô mà thuật toán đã kiểm tra -- do phuc tap bo nho\n",
        "    #forward_path là danh sách các ô trên đường đi ngắn nhất\n",
        "    if typ < 2:\n",
        "        global search_path1, forward_path1\n",
        "        search_path1, forward_path1 = MSA.aStar(self.maze_map, self.width, self.height, source, destination, typH)\n",
        "        self.tracePath(search_path1, \"#00BFFF\", lambda: self.tracePath(forward_path1, \"#FFFF00\"))\n",
        "        self.path_len_label.setText(f\"A Star Path Length: {len(forward_path1) }\")\n",
        "        self.search_len_label.setText(f\"A Star Search Length: {len(search_path1)+1}\")\n",
        "    else:\n",
        "        global search_path, forward_path\n",
        "        search_path, forward_path = MSA.greedyBFS(self.maze_map, self.width, self.height, source, destination, typH)\n",
        "        self.tracePath(search_path, \"#00BFFF\", lambda: self.tracePath(forward_path, \"#FFFF00\"))\n",
        "        self.path_len_label.setText(f\"Greedy BFS Path Length: {len(forward_path)}\")\n",
        "        self.search_len_label.setText(f\"Greedy BFS Search Length: {len(search_path)+1}\")\n",
        "    self.scene.update()"
      ]
    },
    {
      "cell_type": "markdown",
      "metadata": {
        "id": "ATetVC4upitn"
      },
      "source": [
        "3.8. Trả lại trạng thái ban đầu của mê cung"
      ]
    },
    {
      "cell_type": "code",
      "execution_count": 18,
      "metadata": {
        "id": "mspMPnMSpitn"
      },
      "outputs": [],
      "source": [
        "def clearPath(self):\n",
        "    \"\"\"Xóa các ô đường đi cũ và giữ lại mê cung\"\"\"\n",
        "    self.scene.clear()  # Xóa toàn bộ scene\n",
        "\n",
        "    # Vẽ lại mê cung (không có đường đi)\n",
        "    self.draw_maze_on_scene()\n",
        "\n",
        "    # Cập nhật thông tin\n",
        "    self.path_len_label.setText(\"Path Length: 0\")\n",
        "    self.search_len_label.setText(\"Search Length: 0\")\n",
        "\n",
        "    # Cập nhật lại hiển thị\n",
        "    self.scene.update()\n",
        "    self.view.viewport().update()"
      ]
    },
    {
      "cell_type": "markdown",
      "metadata": {
        "id": "qFaQW1saXuXj"
      },
      "source": [
        "#### 4. Xây dựng giao diện (application.ui)\n",
        "\n",
        "\n",
        "\n",
        "\n"
      ]
    },
    {
      "cell_type": "markdown",
      "metadata": {
        "id": "zxsV9VrKX7Sv"
      },
      "source": [
        "- Sử dụng công cụ `QT Creater` được cài đặt thông qua PyQt5 để xây dựng giao diện người dùng đồ họa\n",
        "- Dễ sử dụng với giao diện trực quan, hỗ trợ tạo file .ui có thể chuyển đổi thành code Python.\n",
        "\n",
        "**Giao diện khi hiển thị**\n",
        "\n",
        "![Screenshot 2024-12-19 081617.png](data:image/png;base64,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)\n"
      ]
    },
    {
      "cell_type": "markdown",
      "metadata": {
        "id": "C25HpWi2fXEg"
      },
      "source": [
        "**Các tính năng chính**\n",
        "- Điền kích cỡ mê cung và tạo mê cung\n",
        "- Chọn tọa độ ô bắt đầu\n",
        "- CHọn tọa độ ô kết thúc\n",
        "- Hiển thị ô bắt đầu và ô kết thúc\n",
        "- Xóa đường đi cũ\n",
        "- Chạy hai hàm Heuristic"
      ]
    },
    {
      "cell_type": "markdown",
      "metadata": {
        "id": "7aSQ7b570fyN"
      },
      "source": [
        "### Phân tích và đánh giá kết quả\n"
      ]
    },
    {
      "cell_type": "markdown",
      "metadata": {
        "id": "2jXZ2v0m0jwd"
      },
      "source": [
        "#### 1. Phân tích"
      ]
    },
    {
      "cell_type": "markdown",
      "metadata": {
        "id": "_uS-1mY7z6J7"
      },
      "source": [
        "\n",
        "\n",
        "\n",
        "##### **Thuật toán A***\n",
        "\n",
        "- **Hàm đánh giá:** \\( f(n) = g(n) + h(n) \\)\n",
        "  - \\( g(n) \\): Chi phí thực tế từ điểm bắt đầu đến nút n.\n",
        "  - \\( h(n) \\): Ước lượng chi phí từ nút n đến đích (hàm heuristic).\n",
        "\n",
        "- Mở rộng nút dựa trên tổng chi phí dự đoán \\( f(n) \\), đảm bảo cân bằng giữa chi phí đã đi qua và chi phí còn lại.\n",
        "\n",
        "**Ưu điểm:**\n",
        "- **Tối ưu hóa toàn cục:** A* luôn tìm ra đường đi ngắn nhất nếu \\( h(n) \\) là heuristic khả dĩ (admissible) và nhất quán (consistent).\n",
        "- **Tính tổng quát:** Có thể áp dụng cho nhiều dạng bài toán khác nhau chỉ cần thay đổi hàm heuristic.\n",
        "- **Hiệu quả:** Giảm số lượng nút mở rộng so với các thuật toán như Dijkstra nếu sử dụng heuristic tốt.\n",
        "\n",
        "**Nhược điểm:**\n",
        "- **Chi phí bộ nhớ cao:** A* cần lưu trữ tất cả các nút đã được mở rộng trong bộ nhớ.\n",
        "- **Phụ thuộc vào heuristic:** Nếu \\( h(n) \\) không chính xác hoặc không khả dĩ, hiệu năng sẽ giảm.\n",
        "\n",
        "**Ứng dụng trong mê cung:**\n",
        "- Phù hợp để tìm đường tối ưu nếu có một hàm heuristic tốt, ví dụ: Khoảng cách Manhattan hoặc Khoảng cách Euclidean.\n",
        "\n",
        "\n"
      ]
    },
    {
      "cell_type": "markdown",
      "metadata": {
        "id": "6wjnB-AC0wPl"
      },
      "source": [
        "##### **Thuật toán Greedy BFS**\n",
        "\n",
        "- **Hàm đánh giá:** \\( f(n) = h(n) \\)\n",
        "- **Chỉ dựa vào chi phí dự đoán từ nút hiện tại đến đích (hàm heuristic).**\n",
        "- **Mở rộng nút gần đích nhất theo heuristic, bỏ qua chi phí thực tế từ điểm bắt đầu.**\n",
        "\n",
        "**Ưu điểm:**\n",
        "- **Tốc độ:** Thường nhanh hơn vì chỉ tập trung vào việc tiếp cận đích.\n",
        "- **Đơn giản:** Không cần tính toán và lưu trữ \\( g(n) \\), giảm bớt phức tạp.\n",
        "\n",
        "**Nhược điểm:**\n",
        "- **Không tối ưu:** Greedy BFS không đảm bảo tìm được đường đi ngắn nhất.\n",
        "- **Dễ bị bế tắc:** Có thể rơi vào trạng thái mở rộng vô ích nếu heuristic dẫn đến lựa chọn sai.\n",
        "\n",
        "**Ứng dụng trong mê cung:**\n",
        "- Tốt cho bài toán cần tốc độ, đặc biệt khi không cần đường đi tối ưu.\n",
        "- Có thể bị kẹt trong mê cung phức tạp với nhiều ngã rẽ hoặc bức tường."
      ]
    },
    {
      "cell_type": "markdown",
      "metadata": {
        "id": "C8s2pQna0-Ju"
      },
      "source": [
        "#### 2. Đánh giá kết quả"
      ]
    },
    {
      "cell_type": "markdown",
      "metadata": {
        "id": "JZ6ONdSy1F5P"
      },
      "source": [
        "\n",
        "\n",
        "##### So sánh độ dài đường đi (tìm thấy) của 2 thuật toán tìm kiếm với hàm Heuristic tương ứng\n",
        "![sss.png](data:image/png;base64,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)"
      ]
    },
    {
      "cell_type": "markdown",
      "metadata": {
        "id": "zTf2bz1G1X9l"
      },
      "source": [
        "##### So sánh số ô đã duyệt của hai thuật toán với hai hàm Heuristic\n",
        "![download (2).png](data:image/png;base64,iVBORw0KGgoAAAANSUhEUgAAA90AAAJOCAYAAACqS2TfAAAAOXRFWHRTb2Z0d2FyZQBNYXRwbG90bGliIHZlcnNpb24zLjguMCwgaHR0cHM6Ly9tYXRwbG90bGliLm9yZy81sbWrAAAACXBIWXMAAA9hAAAPYQGoP6dpAAB96ElEQVR4nOzdeVwVZf//8TeIbKKgIiAqikuKey4ZmfuCuaRpebuVu7drmVlmmuKSlplrqdntWpppmZWV+5ZKruGKpKViKtJRARFBlPP7w5/n2wkXljOsr+fjcR55Zq655jOXh+R9ZuYaO7PZbBYAAAAAALA5+6wuAAAAAACA3IrQDQAAAACAQQjdAAAAAAAYhNANAAAAAIBBCN0AAAAAABiE0A0AAAAAgEEI3QAAAAAAGITQDQAAAACAQQjdAAAAedytW7c0efJkhYSEZHUpAJDrELoBADnW119/rY8++kjJyclZXUqqmUwmTZgwQfv378/qUjLs448/1ldffZXVZTxUZn0+Ll68qODgYB09etTQ/Rhp8ODB2rJli2rVqpXVpQBArkPoBgDkSHv27NHLL7+sKlWqyN4+ff+c7dixQ3Z2dvr6669tXN2Dmc1m9ezZUzt37lTNmjUN39/SpUtlZ2engwcP2rzvr776StOmTdOAAQMUGhpq8/4zyhafj9QqUaKEfv/9d3Xr1k23b982dF9S6v9eg4ODZWdn98B1K1askL29vZ599lmdOnVKjo6OWrdunZycnIwoGQDyNEI3AOCxjh07phdffFGlS5eWs7OzSpQooRYtWmju3LlZUs+1a9fUtWtXzZ07V61atcqSGtJj+vTpOn/+vL799ls5OjrarN958+Zp6dKlNuvvca5evao33nhDa9as0YwZM9S7d2/duXPHqs2lS5cUHByc6kC+d+9eBQcHKzo6OsP1Gf35mDJlitatW2e1bOHChbp7967ee+89m+/P1qKjo/XGG29o9erVunr1qvbu3atPP/1UHh4eWV0aAORKhG4AwCPt3btXderU0ZEjR9S/f399/PHH6tevn+zt7TV79uwsqSk0NFSTJ09Wv379smT/6ZGYmKjbt2/rp59+kru7u037zuzQffLkSc2dO1f16tVT37591b9/f50+fdqqzaVLlzRhwoQ0he4JEybYJHQb/fl4UOh2c3PTmjVrNGfOnGxzmfnYsWN169atFMu//PJLDRw4UC+++KJWrVqlb7/9NlPO0ANAXuWQ1QUAALK39957T+7u7jpw4ECKM2FRUVFZUlPTpk2zZL8Z4eTkpDFjxmR1GTbRoEEDq/eDBw/OokoeLKs+H1WrVtX169ezZN8P4uDgIAeHlL/qDRo0yPLnGjVq6IcffsjMsgAgz+FMNwDgkf744w9VqVLlgZeeenl5Wb2/c+eOJk2apHLlysnJyUllypTRO++8o8TExMfuJzIyUr1791bJkiXl5OSk4sWLq3379jp37pylzXfffac2bdrI19dXTk5OKleunCZNmqS7d+9a9dW4cWNVrVpVJ0+eVJMmTeTq6qoSJUpo2rRpD9x3cnKy3nvvPZUsWVLOzs5q1qyZzpw58/jB0b1JtPr27Wupyd/fX4MGDbKcObx27ZpGjhypatWqyc3NTYUKFdJzzz2nI0eOpOgrISFBwcHBeuKJJ+Ts7KzixYurY8eO+uOPPx66/zJlyujEiRPauXOn7OzsZGdnp8aNG1u1SUxM1IgRI1SsWDEVKFBAL7zwgv7++2+rNnZ2dgoODn5g/7169bK8T83x7NixQ3Xr1pUk9e7d21LXw87GBwcH680335Qk+fv7W9rf/7tP7efKqM/Hv8fp5s2bWrZsmaXO++Nz/17rf35my5Qpo7Zt22rHjh2qU6eOXFxcVK1aNe3YsUOStHbtWlWrVk3Ozs6qXbu2fvvtt8fW8CDXr1/XU089pZIlSyo8PFzSw+/p/uKLL1S7dm25uLioSJEi+s9//qOIiIgHjtHRo0fVqFEjubq6qnz58pb5D3bu3Kl69erJxcVFFStW1JYtW9JVNwDkBZzpBgA8UunSpRUSEqLjx4+ratWqj2zbr18/LVu2TC+++KLeeOMN7du3T1OnTlVYWJi+/fbbR27bqVMnnThxQsOGDVOZMmUUFRWlzZs3KyIiQmXKlJF0L9QUKFBAI0aMUIECBbR161aNGzdOsbGx+vDDD636u379ulq1aqWOHTuqc+fO+vrrrzVq1ChVq1ZNzz33nFXb999/X/b29ho5cqRiYmI0bdo0de/eXfv27XtkzZcuXdJTTz2l6OhoDRgwQJUqVdLFixf19ddfKz4+Xo6Ojvrzzz/17bffqnPnzvL399eVK1c0f/58NWrUSCdPnpSvr68k6e7du2rbtq22bt2qLl266LXXXtONGze0efNmHT9+XOXKlXtgDbNmzdKwYcPk5uZmOZPu7e1t1WbYsGEqXLiwxo8fr3PnzmnWrFkaOnRoumYe//PPP7Vu3Tq99NJLluP59NNPrY4nICBAEydO1Lhx4zRgwADLmfFnnnnmgX127NhRv//+u7788kvNnDlTnp6ekqRixYpJSv3nyqjPxz99/vnn6tevn5566ikNGDBAkh76d3PfmTNn1K1bN/33v/9Vjx49NH36dLVr104LFizQO++8Y7lSYOrUqercubPCw8PTNPmbyWRSixYtdO3aNe3cufOR9bz33nsaO3asOnfurH79+unvv//W3Llz1aBBA4WGhqpw4cJWY9S2bVt16dJFL730kubPn68uXbpoxYoVGj58uAYOHKhu3brpww8/1IsvvqgLFy6oYMGCqa4bAPIMMwAAj7Bp0yZzvnz5zPny5TMHBgaa33rrLfPGjRvNt2/ftmoXGhpqlmTu16+f1fKRI0eaJZm3bdv20H1cv37dLMn84YcfPrKWuLi4FMv69etndnV1NSckJFiWNWrUyCzJvHz5csuyxMREs4+Pj7lTp06WZdu3bzdLMgcEBJgTExMty2fPnm2WZD527Ngj63nllVfM9vb25gMHDqRYl5ycbDabzeZbt26Z79y5Y7Xujz/+MDs5OZknTpxoWbZ48WKzJPOMGTMe2tfDVKlSxdyoUaMUy5csWWKWZG7evLlVH6+//ro5X7585ujoaMsySebx48en6KN06dLmnj17Wt4nJCSY7969a9Xm7NmzKY7nwIEDZknmJUuWPLL2+z788EOzJPPZs2etlqflc2Xrz8fDFChQwGpM7rs/3v88htKlS5slmffu3WtZtnHjRrMks4uLi/n8+fOW5Z9++qlZknn79u2P3P/9/Rw4cMB8+fJlc5UqVcxly5Y1nzt3zqrd+PHjzf/8Ve/cuXPmfPnymSdMmGDV7ujRo+Z8+fKZJ02aZFl2f4xWrlxpWXbq1CmzJLO9vb35119/TXE8qf27BoC8hsvLAQCP1KJFC4WEhOj555/XkSNHNG3aNAUFBalEiRL6/vvvLe1++uknSdKIESOstn/jjTckST/++OND9+Hi4iJHR0ft2LHjkffEFihQwPLnu3fvKiEhQa1atVJ8fLxOnTpl1dbNzU09evSwvHd0dNRTTz2lP//8M0W/vXv3tppN/P6Z2Qe1vS85OVnr1q1Tu3btVKdOnRTr71/W6+zsrHz58lmWJyYmWs4GHz582LL8m2++kaenp4YNG/bQvtJrwIABVn00aNBAd+/e1fnz59Pcl5OTk+Us7N27d3X16lW5ubmpYsWKVsdjK2n5XBn1+cioypUrKzAw0PK+Xr16ku7de+7n55dieWpr+Ouvv9SoUSMlJSVp165dKl269CPbr127VsnJyerXr58SEhIsrwoVKqhSpUqWS97vc3NzU5cuXSzvK1asKA8PDwUEBFhqTU/dAJDXELoBAI9Vt25drV27VtevX9f+/fs1evRo3bhxQy+++KJOnjwpSTp//rzs7e1Vvnx5q219fHzk4eHxyIDn5OSkDz74QD///LO8vb3VsGFDTZs2TZGRkVbtfv/9d3Xv3l2+vr5ydHSUi4uLXnzxRUlSTEyMVduSJUumCKuFCxd+YKj/Z/C5307SI78A+PvvvxUbG/vYS+7NZrMWLFigmjVrys3NTc7OznJxcVFoaKhVzX/88YcqVqz4wImvMio9x/cwycnJmjlzpipUqCAnJyd5enqqWLFiOnr0aIq/A1tIy+fKqM9HRv17/O/PXl+qVKkHLk9tDS+//LKioqK0c+dOlShR4rHtT58+LbPZrBIlSsjFxcXqdeLEiRT3+T9ojNzd3TNcNwDkNYRuAECqOTo6qm7dupoyZYrmz5+vpKQkrVmzxqpNes/KDh8+XL///rumTp0qZ2dnvfvuuwoICLBMLBUbG6sGDRrowIEDmjhxorZu3aqQkBDLY8uSk5Ot+vvn2eV/MpvNKZalpW1affDBBxo0aJCeffZZffnll9qzZ49CQkJUrVq1FDUbJSPH9+9JyKZMmaIRI0aoYcOG+uKLL7Rx40Zt3rxZVapUMfR4Hve5MvLzkVEP21dGa+jYsaOio6NT/ei+5ORk2dvba/fu3QoJCUnx+vzzzzOlbgDIa5hIDQCQLvcvqb58+bKkexOuJScn6/Tp0woICLC0u3LliqKjox976at0b0KqN954Q2+88YZOnz6tmjVr6qOPPtIXX3yh7du3KyoqSmvXrlX9+vUt22TVM5GLFSumQoUK6fjx449s99VXX6l58+b6+OOPrZabTCYVKVLE8r5cuXLat2+fkpKSlD9//jTVktHLz6V7Z3n//Yzs27dvW/5+7/v666/VpEkTLVq0yGp5dHS0ZQK09NT0sPap/Vxl5ufDFuNtC8OGDVP58uU1btw4ubu76+23335k+3Llyik5OVlFixZVpUqVMqlKAABnugEAj7R9+/YHnsG6f69txYoVJUmtW7eWdG827X+aMWOGJKlNmzYP3Ud8fLwSEhKslpUrV04FCxa0PBbqftBJSkqytElMTEwRZjOLvb29OnTooB9++EEHDx5Msf7+mNnZ2VnVLElffvllijDbqVMnmUymBx7P484gFihQIEVgTqty5cpp165dVssWLlyY4kx3vnz5UtSzZs0aXbx4MUVNklJd18Pap/ZzlZmfD1uMt628++67GjlypEaPHq358+c/sm3Hjh2VL18+BQcHpzjzn5ycnOLycgCAbXCmGwDwSMOGDVN8fLxeeOEFVapUSbdv39bevXv11VdfqUyZMurdu7ckqUaNGurZs6cWLlyo6OhoNWrUSPv379eyZcvUoUMHNWnS5KH7+P3339WsWTN17txZlStXloODg7799ltduXLFMpHTM888Iw8PD/Xq1Uuvvvqq7OzstHz5ckPugU6tKVOmaNOmTWrUqJEGDBiggIAAXb58WWvWrNHu3bvl4eGhNm3aaPLkyerdu7cCAwN17NgxrVy5MsVjnV555RUtX75cI0aM0P79+9WgQQPdvHlTW7Zs0eDBg9W+ffuH1lG7dm3Nnz9fkydPVvny5eXl5aWmTZum6Vj69eungQMHqlOnTmrRooWOHDmijRs3Wp29lqS2bdtq4sSJ6t27t5555hkdO3ZMK1asUNmyZa3alStXTh4eHlqwYIEKFiyoAgUKqF69evL393/oMUjSmDFj1KVLF+XPn1/t2rVL9ecqMz8ftWvX1pYtWzRjxgz5+vrK39/famKxzPbhhx8qJiZGQ4YMUcGCBa0miPuncuXKafLkyRo9erTOnz+vF154QQULFtSZM2f07bffavDgwRo5cmQmVw8AeUDWTJoOAMgpfv75Z3OfPn3MlSpVMru5uZkdHR3N5cuXNw8bNsx85coVq7ZJSUnmCRMmmP39/c358+c3lypVyjx69GirxzU9iMlkMg8ZMsRcqVIlc4ECBczu7u7mevXqmVevXm3V7pdffjHXq1fP7OLiYi5RooT5nXfeMW/atCnFY5YaNWpkrlKlSor99OzZ01y6dGnL+/uPDFuzZo1Vu7Nnz6b6EUjnz583v/LKK+ZixYqZnZyczGXLljUPGTLE8giyhIQE8/Dhw83Fixc3u7q6mhs0aGDev3+/uVGjRike8xUfH28eM2aMZfx8fHzML774ovmPP/54ZA2RkZHmNm3amAsWLGiWZOn3n4+W+qf7x/3PMbt796551KhRZk9PT7Orq6s5KCjIfObMmQc+MuyNN94wFy9e3Ozi4mKuX7++OSQk5IHH891335krV65sdnBwSNV4Tpo0yVyiRAmzvb291aO3Uvu5svXn42FOnTplbtiwodnFxcUsyTI+D3tkWJs2bVL0Ick8ZMgQq2X3P3ePe3Teg/5e7969a+7atavZwcHBvG7dOrPZnPKRYfd988035meffdZcoEABc4ECBcyVKlUyDxkyxBweHm5p87AxSsvxAADusTObmfUCAAAAAAAjcE83AABIsx07dsjOzi7Fs50BAIA1QjcAAAAAAAbh8nIAAJBmycnJun37thwdHWVvz3f4AAA8DKEbAAAAAACD8NU0AAAAAAAGIXQDAAAAAGAQh6wuICdJTk7WpUuXVLBgQdnZ2WV1OQAAAACALGI2m3Xjxg35+vo+cn4TQncaXLp0SaVKlcrqMgAAAAAA2cSFCxdUsmTJh64ndKdBwYIFJd0b1EKFCmVxNQAAAACArBIbG6tSpUpZcuLDELrT4P4l5YUKFSJ0AwAAAAAee+sxE6kBAAAAAGAQQjcAAAAAAAYhdAMAAAAAYBDu6QYAAAByseTkZN2+fTurywBynPz58ytfvnwZ7ofQDQAAAORSt2/f1tmzZ5WcnJzVpQA5koeHh3x8fB47WdqjELoBAACAXMhsNuvy5cvKly+fSpUqJXt77iwFUstsNis+Pl5RUVGSpOLFi6e7L0I3AAAAkAvduXNH8fHx8vX1laura1aXA+Q4Li4ukqSoqCh5eXml+1Jzvu4CAAAAcqG7d+9KkhwdHbO4EiDnuv+FVVJSUrr7IHQDAAAAuVhG7kUF8jpb/PwQugEAAAAggxo3bqzhw4db3pcpU0azZs165DZ2dnZat26doXUh63FPNwAAAJCHREREyGQyZdr+PD095efnl+btQkJC9Oyzz6pVq1b68ccfH9hm6dKlkqRevXo9sq/GjRtr586dKZb/97//1YIFC9JcW2ocOHBABQoUMKRv5CyEbgAAACCPiIiIUKWAAN2Kj8+0fbq4uupUWFiag/eiRYs0bNgwLVq0SJcuXZKvr69l3cyZM9WvXz/L+xs3buh///ufXn/99Yf2179/f02cONFqmZETzBUrVsywvpGzELoBAACAPMJkMulWfLw6T54vL/8Khu8v6uxprR47SCaTKU2hOy4uTl999ZUOHjyoyMhILV26VO+8845lfeHChdWiRQtVrVpVkrRgwQINHDjwkX26urrKx8fnget27NihJk2a6Pr16/Lw8JAkhYaG6sknn9TZs2dVpkwZSdKePXs0ZswY7d+/X05OTnrqqae0atUqFS5cOEWfZcqU0fDhwy2XnJ8+fVp9+/bV/v37VbZsWc2ePTvV44GcjdANAAAA5DFe/hVUIqBGVpfxUKtXr1alSpVUsWJF9ejRQ8OHD9fo0aMtk1r16tVLTZs21VNPPSVJ2r9/f7ouYU+L0NBQNWvWTH369NHs2bPl4OCg7du3W2aJf5Tk5GR17NhR3t7e2rdvn2JiYqzu/0buxkRqAAAAALKVRYsWqUePHpKkVq1aKSYmxuqe7C+++EKdO3dWmzZt1KZNG3Xu3FlffPHFI/ucN2+e3NzcrF4rVqxIdU3Tpk1TnTp1NG/ePNWoUUNVqlTR0KFD5enp+dhtt2zZolOnTmn58uWqUaOGGjZsqClTpqR638jZCN0AAAAAso3w8HDt379fXbt2lSQ5ODjoP//5jxYtWmRpExUVpc2bN6tBgwZq0KCBNm/erKioqEf22717d4WGhlq9nn/++VTXdf9Md3qEhYWpVKlSVvelBwYGpqsv5DxcXg4AAAAg21i0aJHu3LljFVDNZrOcnJz08ccfy93dXSNGjLDapmDBgimW/Zu7u7vKly//wHX29vaW/dyXlJRk1cbFxSVNxwHcx5luAAAAANnCnTt3tHz5cn300UdWZ6SPHDkiX19fffnll1bte/Xq9djHhaXG/ZnGL1++bFkWGhpq1aZ69eraunVruvoPCAjQhQsXrPr/9ddf09UXch5CNwAAAIBsYf369bp+/br69u2rqlWrWr06depkdYl5WsXHxysyMtLqdf36dUlS+fLlVapUKQUHB+v06dP68ccf9dFHH1ltP3r0aB04cECDBw/W0aNHderUKc2fPz9Vzzxv3ry5nnjiCfXs2VNHjhzRL7/8ojFjxqT7WJCzcHk5AAAAkMdEnT2dLfezaNEiNW/eXO7u7inWderUSdOmTdPRo0dVvXr1NNfy2Wef6bPPPrNaFhQUpA0bNih//vz68ssvNWjQIFWvXl1169bV5MmT9dJLL1naPvHEE9q0aZPeeecdPfXUU3JxcVG9evUs954/ir29vb799lv17dtXTz31lMqUKaM5c+aoVatWaT4O5Dx25n/euIBHio2Nlbu7u2JiYlSoUKGsLgcAAOQRERERqTqb9iienp6GP1IJ2UtCQoLOnj0rf39/OTs7S7r3WaoUEKBb8fGZVoeLq6tOhYXx+UOO9KCfo/tSmw850w0AAJCN2SokEXwgSX5+fjoVFpbhL3HSgi98kNcRugEAALIxk8mkW/Hx6jx5vrz8K6Srj6izp7V67CCZTCbCD+Tn58fnAMhEhG4AAIAcwMu/gkoE1MjqMgAAacTs5QAAAAAAGCRbhO5du3apXbt28vX1lZ2dndatW2dZl5SUpFGjRqlatWoqUKCAfH199corr+jSpUtWfVy7dk3du3dXoUKF5OHhob59+youLs6qzdGjR9WgQQM5OzurVKlSmjZtWmYcHgAAAAAgj8oWofvmzZuqUaOGPvnkkxTr4uPjdfjwYb377rs6fPiw1q5dq/DwcD3//PNW7bp3764TJ05o8+bNWr9+vXbt2qUBAwZY1sfGxqply5YqXbq0Dh06pA8//FDBwcFauHCh4ccHAAAAAMibssU93c8995yee+65B65zd3fX5s2brZZ9/PHHeuqppxQRESE/Pz+FhYVpw4YNOnDggOrUqSNJmjt3rlq3bq3p06fL19dXK1as0O3bt7V48WI5OjqqSpUqCg0N1YwZM6zCOQAAAAAAtpItznSnVUxMjOzs7OTh4SFJCgkJkYeHhyVwS1Lz5s1lb2+vffv2Wdo0bNhQjo6OljZBQUEKDw/X9evXM7V+AAAAAEDekC3OdKdFQkKCRo0apa5du1oeQB4ZGSkvLy+rdg4ODipSpIgiIyMtbfz9/a3aeHt7W9YVLlw4xb4SExOVmJhoeR8bG2vTYwEAAAAA5G456kx3UlKSOnfuLLPZrPnz5xu+v6lTp8rd3d3yKlWqlOH7BAAAAJDzBQcHq2bNmlldBrKBHHOm+37gPn/+vLZt22Y5yy1JPj4+ioqKsmp/584dXbt2TT4+PpY2V65csWpz//39Nv82evRojRgxwvI+NjaW4A0AAIAcLSIiQiaTKdP25+npKT8/vzRvFxISomeffVatWrXSjz/++MA2S5culST16tXrkX01btxYO3fu1NSpU/X2229brWvTpo1++uknjR8/XsHBwWmu00jnzp2Tv7+/fvvtN6sA36tXL0VHR1s99QnZV44I3fcD9+nTp7V9+3YVLVrUan1gYKCio6N16NAh1a5dW5K0bds2JScnq169epY2Y8aMUVJSkvLnzy9J2rx5sypWrPjAS8slycnJSU5OTgYeGQAAAJB5IiIiFFCpouJvJWTaPl1dnBV2KjzNwXvRokUaNmyYFi1apEuXLsnX19eybubMmerXr5/l/Y0bN/S///1Pr7/++kP7K1WqlJYuXWoVui9evKitW7eqePHiaaoNSItsEbrj4uJ05swZy/uzZ88qNDRURYoUUfHixfXiiy/q8OHDWr9+ve7evWu5T7tIkSJydHRUQECAWrVqpf79+2vBggVKSkrS0KFD1aVLF8sPZ7du3TRhwgT17dtXo0aN0vHjxzV79mzNnDkzS44ZAAAAyGwmk0nxtxL0xWApwPfx7TMq7JLUY16CTCZTmkJ3XFycvvrqKx08eFCRkZFaunSp3nnnHcv6woULq0WLFqpataokacGCBRo4cOAj+2zbtq1Wr16tPXv2qH79+pKkZcuWqWXLloqIiLBq+/nnn2v27NkKDw9XgQIF1LRpU82aNcsyj9SOHTvUpEkTbdmyRaNGjdLJkydVs2ZNLVmyRBUrVkzR17vvvqvr16/rueee02effaaCBQtKkjZs2KDJkyfr+PHjypcvnwIDAzV79myVK1dOkixzUj355JOSpEaNGqlx48ZatmyZJMnOzk6StH37djVu3FijRo3St99+q7/++ks+Pj7q3r27xo0bZznpGBwcrHXr1umNN954aE2wvWwRug8ePKgmTZpY3t+/pLtnz54KDg7W999/L0kp7om4/+GSpBUrVmjo0KFq1qyZ7O3t1alTJ82ZM8fS1t3dXZs2bdKQIUNUu3ZteXp6aty4cTwuDAAAAHlOgK9Uy//x7bLK6tWrValSJVWsWFE9evTQ8OHDNXr0aEvI7NWrl5o2baqnnnpKkrR///7HhnpHR0d1795dS5YssYTupUuXatq0aSkuK09KStKkSZNUsWJFRUVFacSIEerVq5d++uknq3ZjxozRRx99pGLFimngwIHq06eP9uzZY1n/xx9/aN26dVq/fr2uX7+uzp076/3339d7770nSbp586ZGjBih6tWrKy4uTuPGjdMLL7yg0NBQ2dvba//+/Xrqqae0ZcsWValSRY6OjnJ0dFRYWJhiY2O1ZMkSSfdORkpSwYIFtXTpUvn6+urYsWPq37+/ChYsqLfeeivVNcH2skXobty4scxm80PXP2rdfUWKFNHKlSsf2aZ69er65Zdf0lwfAAAAgMyzaNEi9ejRQ5LUqlUrxcTEaOfOnZYTbl988YU+/vhjtWnTRpLUuXNnDR061LLNw/Tp00cNGjTQ7NmzdejQIcXExKht27YpQnefPn0sfy5btqzmzJmjunXrKi4uTm5ubpZ17733nho1aiRJevvtt9WmTRslJCTI2dlZkpScnKylS5daziK//PLL2rp1qyXgdurUyWq/ixcvVrFixXTy5ElVrVpVxYoVkyQVLVrUah4qFxcXJSYmppibauzYsZY/lylTRiNHjtSqVausQvfjaoLt5ajZywEAAADkbuHh4dq/f7+6du0q6d6jgP/zn/9o0aJFljZRUVHavHmzGjRooAYNGmjz5s0pJlZ+kBo1aqhChQr6+uuvtXjxYr388stycEh5HvLQoUNq166d/Pz8VLBgQUuw/vdl6NWrV7f8+f594f+so0yZMlaXbRcvXtxq/enTp9W1a1eVLVtWhQoVUpkyZR64n9T66quvVL9+ffn4+MjNzU1jx45N0dfjaoLtZYsz3QAAAAAg3TvLfefOHauJ08xms5ycnPTxxx/L3d3d6glD0r3Lqv+97GH69OmjTz75RCdPntT+/ftTrL9586aCgoIUFBSkFStWqFixYoqIiFBQUJBu375t1fb+vdLS/91fnZyc/MD199v8c327du1UunRpffbZZ/L19VVycrKqVq2aYj+pERISou7du2vChAkKCgqSu7u7Vq1apY8++uihNT+oJtgeoRsAAABAtnDnzh0tX75cH330kVq2bGm1rkOHDvryyy+tJkx73KPCHqRbt24aOXKkatSoocqVK6dYf+rUKV29elXvv/++5XHBBw8eTPN+Hufq1asKDw/XZ599pgYNGkiSdu/ebdXG0dFRknT37t0Uy/+9bO/evSpdurTGjBljWXb+/Hmb1420I3QDAAAAyBbuT+7Vt29fubu7W63r1KmTFi1a9NhZyh+ncOHCunz5coozvvf5+fnJ0dFRc+fO1cCBA3X8+HFNmjQpQ/t8WB1FixbVwoULVbx4cUVERKR4hriXl5dcXFy0YcMGlSxZUs7OznJ3d1eZMmW0ceNGhYeHq2jRonJ3d1eFChUUERGhVatWqW7duvrxxx/17bff2rxupB2hGwAAAMhjwi5lz/0sWrRIzZs3TxG4pXuhe9q0aTp69KjVvdTp4eHh8dB1xYoVszyibM6cOapVq5amT5+u559/PkP7/Dd7e3utWrVKr776qqpWraqKFStqzpw5lsnipHv3s8+ZM0cTJ07UuHHj1KBBA+3YsUP9+/fXjh07VKdOHcXFxWn79u16/vnn9frrr2vo0KFKTExUmzZt9O6776aYJA6Zz86cmqnBIUmKjY2Vu7u7YmJiVKhQoawuBwAA5AGHDx9W7dq1NXTFFpUIqJGuPi6GHdHH3Zvr0KFDqlWrlo0rRHaVkJCgs2fPyt/f3zKbdkREhAIqVVT8rYRMq8PVxVlhp8LT9JxuILt40M/RfanNh5zpBgAAAPIIPz8/hZ0Kl8lkyrR9enp6EriRpxG6AQAAgDzEz8+PEAxkIp7TDQAAAACAQQjdAAAAAAAYhNANAAAAAIBBCN0AAAAAABiE0A0AAAAAgEEI3QAAAAAAGITQDQAAAACAQQjdAAAAAPAYwcHBqlmzZlaXkW0tXbpUHh4elvepGa9evXqpQ4cOhtaVHThkdQEAAAAAMk9ERIRMJlOm7c/T01N+fn5p2iYyMlJTp07Vjz/+qL/++kvu7u4qX768evTooZ49e8rV1dWgao1VpkwZnT9/XpJkb28vb29vPffcc5o+fboKFy4sSdqxY4eaNGmSYtsxY8Zo8uTJio+P16RJk7R69WpdvHhRBQsWVOXKlTVixAi1b9/+gftdunSpevfunWK5k5OTEhISbHiE/2fkyJEaNmyYIX3nNIRuAAAAII+IiIhQxUoVlXDLmKD1IM4uzgo/FZ7q4P3nn3+qfv368vDw0JQpU1StWjU5OTnp2LFjWrhwoUqUKKHnn3/+gdsmJSUpf/78tizf5iZOnKj+/fvr7t27+v333zVgwAC9+uqr+vzzz63ahYeHq1ChQpb3bm5ukqSBAwdq3759mjt3ripXrqyrV69q7969unr16iP3W6hQIYWHh1sts7Ozs9FRpeTm5mapOa8jdAMAAAB5hMlkuhe4O0ryzIwdSglrE2QymVIdugcPHiwHBwcdPHhQBQoUsCwvW7as2rdvL7PZbFlmZ2enefPm6eeff9bWrVv15ptvKjg4WN99950mTJigkydPytfXVz179tSYMWPk4HAv/kRHR2vkyJH67rvvlJiYqDp16mjmzJmqUaOGpe/3339fM2fOVHx8vDp37qxixYpZ1u3atUvNmjXThQsX5OPjY1k+fPhwHTp0SL/88stDj69gwYKWbUqUKKGePXvqyy+/TNHOy8vL6nLt+77//nvNnj1brVu3lnTv7Hnt2rUfN6yys7OzqvXfypQpo+HDh2v48OGWZTVr1lSHDh0UHBws6d64jRo1SuvWrVNMTIzKly+v999/X23btk3RX3BwsNatW6fQ0FBJ0t27d/Xmm29q8eLFypcvn/r27Wv1d5mbcU83AAAAkNd4SvLNhFcag/3Vq1e1adMmDRkyxCpw/9O/z84GBwfrhRde0LFjx9SnTx/98ssveuWVV/Taa6/p5MmT+vTTT7V06VK99957lm1eeuklRUVF6eeff9ahQ4dUq1YtNWvWTNeuXZMkrV69WsHBwZoyZYoOHjyo4sWLa968eZbtGzZsqLJly1qdnU5KStKKFSvUp0+fVB/vxYsX9cMPP6hevXqp3sbHx0c//fSTbty4keptbCE5OVnPPfec9uzZoy+++EInT57U+++/r3z58qVq+48++khLly7V4sWLtXv3bl27dk3ffvutwVVnD4RuAAAAANnCmTNnZDabVbFiRavlnp6elsuVR40aZbWuW7du6t27t8qWLSs/Pz9NmDBBb7/9tnr27KmyZcuqRYsWmjRpkj799FNJ0u7du7V//36tWbNGderUUYUKFTR9+nR5eHjo66+/liTNmjVLffv2Vd++fVWxYkVNnjxZlStXttpv3759tWTJEsv7H374QQkJCercufMjj3HUqFFyc3OTi4uLSpYsKTs7O82YMSNFu5IlS1qO2c3NzXL5+MKFC7V3714VLVpUdevW1euvv649e/Y8dmxjYmKs+nNzc9Nzzz332O3u27Jli/bv36+1a9eqRYsWKlu2rNq2bZvqPmbNmqXRo0erY8eOCggI0IIFC+Tu7p7q/edkhG4AAAAA2dr+/fsVGhqqKlWqKDEx0WpdnTp1rN4fOXJEEydOtAqX/fv31+XLlxUfH68jR44oLi5ORYsWtWpz9uxZ/fHHH5KksLCwFGefAwMDrd736tVLZ86c0a+//irp3mRlnTt3fugZ+vvefPNNhYaG6ujRo9q6daskqU2bNrp7965Vu19++UWhoaGW1/2J1ho2bKg///xTW7du1YsvvqgTJ06oQYMGmjRp0iP3W7BgQav+QkND9b///e+R2/xTaGioSpYsqSeeeCLV29wXExOjy5cvW42pg4NDir+73Ip7ugEAAABkC+XLl5ednV2KCb/Kli0rSXJxcUmxzb9DblxcnCZMmKCOHTumaOvs7Ky4uDgVL15cO3bsSLH+QfdQP4yXl5fatWunJUuWyN/fXz///PMD+/w3T09PlS9fXpJUoUIFzZo1S4GBgdq+fbuaN29uaefv7//QevLnz68GDRqoQYMGGjVqlCZPnqyJEydq1KhRcnR0fOA29vb2lv0+bP2/77FOSkqy/PlBY4/U4Uw3AAAAgGyhaNGiatGihT7++GPdvHkzXX3UqlVL4eHhKl++fIqXvb29atWqpcjISDk4OKRY7+l57yb0gIAA7du3z6rf+2e0/6lfv3766quvtHDhQpUrV07169dPc73374m+detWOo72nsqVK+vOnTsZevxXsWLFdPnyZcv72NhYnT171vK+evXq+uuvv/T777+nuW93d3cVL17cakzv3LmjQ4cOpbvenIQz3QAAAACyjXnz5ql+/fqqU6eOgoODVb16ddnb2+vAgQM6derUY2fqHjdunNq2bSs/Pz+9+OKLsre315EjR3T8+HFNnjxZzZs3V2BgoDp06KBp06bpiSee0KVLl/Tjjz/qhRdeUJ06dfTaa6+pV69eqlOnjurXr68VK1boxIkTljPu9wUFBalQoUKWM82pcePGDUVGRspsNuvChQt66623VKxYMT3zzDOp2r5x48bq2rWr6tSpo6JFi+rkyZN655131KRJE6tHjP2b2WxWZGRkiuVeXl6yt7dX06ZNtXTpUrVr104eHh4aN26c1SRpjRo1UsOGDdWpUyfNmDFD5cuX16lTp2RnZ6dWrVo9tu7XXntN77//vipUqKBKlSppxowZio6OTtUx53SEbgAAACCvMWXf/ZQrV06//fabpkyZotGjR+uvv/6Sk5OTKleurJEjR2rw4MGP3D4oKEjr16/XxIkT9cEHHyh//vyqVKmS+vXrJ+ne7Oc//fSTxowZo969e+vvv/+Wj4+PGjZsKG9vb0nSf/7zH/3xxx966623lJCQoE6dOmnQoEHauHGj1b7s7e3Vq1cvTZkyRa+88kqqjm/cuHEaN26cpHtnl+vWratNmzapaNGiqdo+KChIy5Yt0zvvvKP4+Hj5+vqqbdu2lj4fJjY2VsWLF0+x/PLly/Lx8dHo0aN19uxZtW3bVu7u7po0aZLVmW5J+uabbzRy5Eh17dpVN2/etDwyLDXeeOMNXb58WT179pS9vb369OmjF154QTExManaPiezM+eVh6PZQGxsrNzd3RUTE/PIb5EAAABs5fDhw6pdu7aGrtiiEgE1Hr/BA1wMO6KPuze3PBoJeUNCQoLOnj0rf39/OTs7S5IiIiJUsVLFe8/qziTOLs4KPxWe6ud05zR9+/bV33//re+//z6rS4EBHvRzdF9q8yFnugEAAIA8ws/PT+GnwmUyZdap7nsTh+XGwB0TE6Njx45p5cqVBG48EqEbAAAAyEP8/PxyZQjObO3bt9f+/fs1cOBAtWjRIqvLQTZG6AYAAACANErN48EAiUeGAQAAAABgGEI3AAAAAAAGIXQDAAAAAGAQQjcAAAAAAAYhdAMAAAAAYBBCNwAAAAAABuGRYQAAAEAeEhERIZPJlGn78/T0zBXPBQ8ODta6desUGhqa1aXkCOfOnZO/v79+++031axZM6vLyVKEbgAAACCPiIiIUEDFiopPSMi0fbo6OyssPDxNwTsyMlJTp07Vjz/+qL/++kvu7u4qX768evTooZ49e8rV1dXAio1TpkwZnT9/XpJkb28vb29vPffcc5o+fboKFy4s6d7zv5s0aZJi2zFjxmjy5MmKj4/XpEmTtHr1al28eFEFCxZU5cqVNWLECLVv3/6B+126dKl69+6tSpUqKSwszGrdmjVr1LlzZ5UuXVrnzp2z7QHbQOPGjVWzZk3NmjXLsuz+GF2/fl0eHh5ZVltqEboBAACAPMJkMik+IUFfSArIhP2FSeqRkCCTyZTq0P3nn3+qfv368vDw0JQpU1StWjU5OTnp2LFjWrhwoUqUKKHnn3/+gdsmJSUpf/78NjwC25s4caL69++vu3fv6vfff9eAAQP06quv6vPPP7dqFx4erkKFClneu7m5SZIGDhyoffv2ae7cuapcubKuXr2qvXv36urVq4/cb4ECBRQVFaWQkBAFBgZali9atChXXImQnXFPNwAAAJDHBEiqlQmv9AT7wYMHy8HBQQcPHlTnzp0VEBCgsmXLqn379vrxxx/Vrl07S1s7OzvNnz9fzz//vAoUKKD33ntPkvTdd9+pVq1acnZ2VtmyZTVhwgTduXPHsl10dLT69eunYsWKqVChQmratKmOHDliVcf7778vb29vFSxYUH379lXCP64O2LVrl/Lnz6/IyEirbYYPH64GDRo88vgKFiwoHx8flShRQk2aNFHPnj11+PDhFO28vLzk4+Njed0P3d9//73eeecdtW7dWmXKlFHt2rU1bNgw9enT55H7dXBwULdu3bR48WLLsr/++ks7duxQt27drNr+8ccfat++vby9veXm5qa6detqy5YtVm3KlCmjKVOmqE+fPipYsKD8/Py0cOHCFPv9888/1aRJE7m6uqpGjRoKCQmxrLt69aq6du2qEiVKyNXVVdWqVdOXX35pWd+rVy/t3LlTs2fPlp2dnezs7HTu3DnLlQCFCxeWnZ2devXqJUnasGGDnn32WXl4eKho0aJq27at/vjjD0t/586dk52dndauXfvQmoxA6AYAAACQLVy9elWbNm3SkCFDVKBAgQe2sbOzs3ofHBysF154QceOHVOfPn30yy+/6JVXXtFrr72mkydP6tNPP9XSpUstgVySXnrpJUVFRennn3/WoUOHVKtWLTVr1kzXrl2TJK1evVrBwcGaMmWKDh48qOLFi2vevHmW7Rs2bKiyZctanZ1OSkrSihUrHht+/+nixYv64YcfVK9evVRv4+Pjo59++kk3btxI9Tb39enTR6tXr1Z8fLyke5edt2rVSt7e3lbt4uLi1Lp1a23dulW//fabWrVqpXbt2ikiIsKq3UcffaQ6derot99+0+DBgzVo0CCFh4dbtRkzZoxGjhyp0NBQPfHEE+ratavlC5CEhATVrl1bP/74o44fP64BAwbo5Zdf1v79+yVJs2fPVmBgoPr376/Lly/r8uXLKlWqlL755htJ964GuHz5smbPni1JunnzpkaMGKGDBw9q69atsre31wsvvKDk5ORU12QEQjcAAACAbOHMmTMym82qWLGi1XJPT0+5ubnJzc1No0aNslrXrVs39e7dW2XLlpWfn58mTJigt99+Wz179lTZsmXVokULTZo0SZ9++qkkaffu3dq/f7/WrFmjOnXqqEKFCpo+fbo8PDz09ddfS5JmzZqlvn37qm/fvqpYsaImT56sypUrW+23b9++WrJkieX9Dz/8oISEBHXu3PmRxzhq1Ci5ubnJxcVFJUuWlJ2dnWbMmJGiXcmSJS3H7ObmZrl8fOHChdq7d6+KFi2qunXr6vXXX9eePXtSNb5PPvmkypYtq6+//lpms1lLly594JcENWrU0H//+19VrVpVFSpU0KRJk1SuXDl9//33Vu1at26twYMHq3z58ho1apQ8PT21fft2qzYjR45UmzZt9MQTT2jChAk6f/68zpw5I0kqUaKERo4cqZo1a6ps2bIaNmyYWrVqpdWrV0uS3N3d5ejoKFdXV8sZ/3z58qlIkSKS/u9qAHd3d0lSp06d1LFjR5UvX141a9bU4sWLdezYMZ08eTLVNRmB0A0AAAAgW9u/f79CQ0NVpUoVJSYmWq2rU6eO1fsjR45o4sSJVoH1/pnS+Ph4HTlyRHFxcSpatKhVm7Nnz1ouRQ4LC0tx9vmf90FL9y59PnPmjH799VdJ984ad+7c+aFn6O978803FRoaqqNHj2rr1q2SpDZt2uju3btW7X755ReFhoZaXvcnWmvYsKH+/PNPbd26VS+++KJOnDihBg0aaNKkSakZSvXp00dLlizRzp07dfPmTbVu3TpFm7i4OI0cOVIBAQHy8PCQm5ubwsLCUpzprl69uuXPdnZ28vHxUVRU1EPbFC9eXJIsbe7evatJkyapWrVqKlKkiNzc3LRx48YU+0mt06dPq2vXripbtqwKFSqkMmXKSNIj6/53TUZgIjUAAAAA2UL58uVlZ2eX4hLlsmXLSpJcXFxSbPPvkBsXF6cJEyaoY8eOKdo6OzsrLi5OxYsX144dO1KsT8tM2F5eXmrXrp2WLFkif39//fzzzw/s8988PT1Vvnx5SVKFChU0a9YsBQYGavv27WrevLmlnb+//0PryZ8/vxo0aKAGDRpo1KhRmjx5siZOnKhRo0bJ0dHxkfvv3r273nrrLQUHB+vll1+Wg0PKSDhy5Eht3rxZ06dPV/ny5eXi4qIXX3xRt2/fTlHHP9nZ2aW4lPufbe7fGnC/zYcffqjZs2dr1qxZqlatmgoUKKDhw4en2E9qtWvXTqVLl9Znn30mX19fJScnq2rVqo+s+981GYHQDQAAACBbKFq0qFq0aKGPP/5Yw4YNe+xZ4wepVauWwsPDLcH2QesjIyPl4OBgORP6bwEBAdq3b59eeeUVy7L7Z7T/qV+/furatatKliypcuXKqX79+mmuN1++fJKkW7dupXnb+ypXrqw7d+4oISHhsaG7SJEiev7557V69WotWLDggW327NmjXr166YUXXpB074sMIx4ntmfPHrVv3149evSQdC/4/v7771aX8js6Oqa4CuD+Mf5z+dWrVxUeHq7PPvvMMpnd7t27bV5zenB5OQAAAIBsY968ebpz547q1Kmjr776SmFhYQoPD9cXX3yhU6dOWULqw4wbN07Lly/XhAkTdOLECYWFhWnVqlUaO3asJKl58+YKDAxUhw4dtGnTJp07d0579+7VmDFjdPDgQUnSa6+9psWLF2vJkiX6/fffNX78eJ04cSLFvoKCglSoUCFNnjxZvXv3TtXx3bhxQ5GRkbp8+bL279+vN998U8WKFdMzzzyTqu0bN26sTz/9VIcOHdK5c+f0008/6Z133lGTJk2sHjH2KEuXLpXJZFKlSpUeuL5ChQpau3atQkNDdeTIEXXr1s2QM8EVKlTQ5s2btXfvXoWFhem///2vrly5YtWmTJky2rdvn86dOyeTyaTk5GSVLl1adnZ2Wr9+vf7++2/FxcWpcOHCKlq0qBYuXKgzZ85o27ZtGjFihM1rTg9CNwAAAJDHhEk6nAmvsHTUVq5cOf32229q3ry5Ro8erRo1aqhOnTqaO3euRo4c+dh7l4OCgrR+/Xpt2rRJdevW1dNPP62ZM2eqdOnSku5dTvzTTz+pYcOG6t27t5544gl16dJF58+ft8zi/Z///Efvvvuu3nrrLdWuXVvnz5/XoEGDUuzL3t5evXr10t27d63Oij/KuHHjVLx4cfn6+qpt27YqUKCANm3apKJFi6Zq+6CgIC1btkwtW7ZUQECAhg0bpqCgIMvkY6nh4uLyyP3NmDFDhQsX1jPPPKN27dopKChItWrVSnX/qTV27FjVqlVLQUFBaty4sXx8fNShQwerNiNHjlS+fPlUuXJlFStWTBERESpRooRlwjxvb28NHTpU9vb2WrVqlQ4dOqSqVavq9ddf14cffmjzmtPDzmw2m7O6iJwiNjZW7u7uiomJSfW3SAAAABlx+PBh1a5dW0NXbFGJgBrp6uNi2BF93L255dFIyBsSEhJ09uxZ+fv7y9nZWdK9CaUCKlZU/D+eOW00V2dnhYWHy8/PL9P2mZn69u2rv//+O8XM3sgdHvRzdF9q8yH3dAMAAAB5hJ+fn8LCw2UymTJtn56enrkycMfExOjYsWNauXIlgRuPROgGAAAA8hA/P79cGYIzW/v27bV//34NHDhQLVq0yOpykI0RugEAAAAgjVLzeDBAYiI1AAAAAAAMQ+gGAAAAAMAghG4AAAAgF+NhRUD62eLnh9ANAAAA5EL58uWTJN2+fTuLKwFyrvj4eElS/vz5090HE6kBAAAAuZCDg4NcXV31999/K3/+/LK353wbkFpms1nx8fGKioqSh4eH5Uus9CB0AwAAALmQnZ2dihcvrrNnz+r8+fNZXQ6QI3l4eMjHxydDfRC6AQAAgFzK0dFRFSpU4BJzIB3y58+foTPc9xG6AQAAgFzM3t5ezs7OWV0GkGdxYwcAAAAAAAYhdAMAAAAAYBBCNwAAAAAABiF0AwAAAABgEEI3AAAAAAAGIXQDAAAAAGAQQjcAAAAAAAYhdAMAAAAAYBBCNwAAAAAABskWoXvXrl1q166dfH19ZWdnp3Xr1lmtN5vNGjdunIoXLy4XFxc1b95cp0+ftmpz7do1de/eXYUKFZKHh4f69u2ruLg4qzZHjx5VgwYN5OzsrFKlSmnatGlGHxoAAAAAIA/LFqH75s2bqlGjhj755JMHrp82bZrmzJmjBQsWaN++fSpQoICCgoKUkJBgadO9e3edOHFCmzdv1vr167Vr1y4NGDDAsj42NlYtW7ZU6dKldejQIX344YcKDg7WwoULDT8+AAAAAEDe5JDVBUjSc889p+eee+6B68xms2bNmqWxY8eqffv2kqTly5fL29tb69atU5cuXRQWFqYNGzbowIEDqlOnjiRp7ty5at26taZPny5fX1+tWLFCt2/f1uLFi+Xo6KgqVaooNDRUM2bMsArnAAAAAADYSrY40/0oZ8+eVWRkpJo3b25Z5u7urnr16ikkJESSFBISIg8PD0vglqTmzZvL3t5e+/bts7Rp2LChHB0dLW2CgoIUHh6u69evP3DfiYmJio2NtXoBAAAAAJBa2T50R0ZGSpK8vb2tlnt7e1vWRUZGysvLy2q9g4ODihQpYtXmQX38cx//NnXqVLm7u1tepUqVyvgBAQAAAADyjGwfurPS6NGjFRMTY3lduHAhq0sCAAAAAOQg2T50+/j4SJKuXLlitfzKlSuWdT4+PoqKirJaf+fOHV27ds2qzYP6+Oc+/s3JyUmFChWyegEAAAAAkFrZPnT7+/vLx8dHW7dutSyLjY3Vvn37FBgYKEkKDAxUdHS0Dh06ZGmzbds2JScnq169epY2u3btUlJSkqXN5s2bVbFiRRUuXDiTjgYAAAAAkJdki9AdFxen0NBQhYaGSro3eVpoaKgiIiJkZ2en4cOHa/Lkyfr+++917NgxvfLKK/L19VWHDh0kSQEBAWrVqpX69++v/fv3a8+ePRo6dKi6dOkiX19fSVK3bt3k6Oiovn376sSJE/rqq680e/ZsjRgxIouOGgAAAACQ22WLR4YdPHhQTZo0sby/H4R79uyppUuX6q233tLNmzc1YMAARUdH69lnn9WGDRvk7Oxs2WbFihUaOnSomjVrJnt7e3Xq1Elz5syxrHd3d9emTZs0ZMgQ1a5dW56enho3bhyPCwMAAAAAGCZbhO7GjRvLbDY/dL2dnZ0mTpyoiRMnPrRNkSJFtHLlykfup3r16vrll1/SXScAAAAAAGmRLS4vBwAAAAAgNyJ0AwAAAABgEEI3AAAAAAAGIXQDAAAAAGAQQjcAAAAAAAYhdAMAAAAAYJBs8cgwAAAAAIAUEREhk8mUoT48PT3l5+dno4qQUYRuAAAAAMgGIiIiVCkgQLfi4zPUj4urq06FhRG8swlCNwAAAABkAyaTSbfi49V58nx5+VdIVx9RZ09r9dhBMplMhO5sgtANAAAAANmIl38FlQiokdVlwEaYSA0AAAAAAIMQugEAAAAAMAihGwAAAAAAgxC6AQAAAAAwCKEbAAAAAACDMHs5AAAA8pSIiAiZTKYM9eHp6cnjmACkCqEbAAAAeUZERIQqBQToVnx8hvpxcXXVqbAwgjeAxyJ0AwAAIM8wmUy6FR+vzpPny8u/Qrr6iDp7WqvHDpLJZCJ0A3gsQjcAAADyHC//CioRUCOrywCQBzCRGgAAAAAABiF0AwAAAABgEEI3AAAAAAAGIXQDAAAAAGAQQjcAAAAAAAYhdAMAAAAAYBBCNwAAAAAABiF0AwAAAABgEEI3AAAAAAAGIXQDAAAAAGAQQjcAAAAAAAYhdAMAAAAAYBBCNwAAAAAABiF0AwAAAABgEEI3AAAAAAAGIXQDAAAAAGAQQjcAAAAAAAYhdAMAAAAAYBBCNwAAAAAABiF0AwAAAABgEEI3AAAAAAAGIXQDAAAAAGAQQjcAAAAAAAYhdAMAAAAAYBBCNwAAAAAABiF0AwAAAABgEIesLgAAAABAzhURESGTyZShPjw9PeXn52ejioDshdANAAAAIF0iIiJUKSBAt+LjM9SPi6urToWFEbyRKxG6AQAAAKSLyWTSrfh4dZ48X17+FdLVR9TZ01o9dpBMJhOhG7kSoRsAAABAhnj5V1CJgBpZXQaQLTGRGgAAAAAABiF0AwAAAABgEEI3AAAAAAAGIXQDAAAAAGAQQjcAAAAAAAZh9nIAAIA8IiwsLEPbe3p68kgnAEgjQjcAAEAud8N0RfZ2Uo8ePTLUj6uLs8JOhRO8ASANCN0AAAC53K0bsUo2S18MlgJ809dH2CWpx7wEmUwmQjcApAGhGwAAII8I8JVq+Wd1FQCQtzCRGgAAAAAABiF0AwAAAABgEEI3AAAAAAAGIXQDAAAAAGAQQjcAAAAAAAYhdAMAAAAAYBBCNwAAAAAABiF0AwAAAABgEEI3AAAAAAAGyRGh++7du3r33Xfl7+8vFxcXlStXTpMmTZLZbLa0MZvNGjdunIoXLy4XFxc1b95cp0+fturn2rVr6t69uwoVKiQPDw/17dtXcXFxmX04AAAAAIA8IkeE7g8++EDz58/Xxx9/rLCwMH3wwQeaNm2a5s6da2kzbdo0zZkzRwsWLNC+fftUoEABBQUFKSEhwdKme/fuOnHihDZv3qz169dr165dGjBgQFYcEgAAAAAgD3DI6gJSY+/evWrfvr3atGkjSSpTpoy+/PJL7d+/X9K9s9yzZs3S2LFj1b59e0nS8uXL5e3trXXr1qlLly4KCwvThg0bdODAAdWpU0eSNHfuXLVu3VrTp0+Xr69v1hwcAAAAACDXyhFnup955hlt3bpVv//+uyTpyJEj2r17t5577jlJ0tmzZxUZGanmzZtbtnF3d1e9evUUEhIiSQoJCZGHh4clcEtS8+bNZW9vr3379j1wv4mJiYqNjbV6AQAAAACQWjniTPfbb7+t2NhYVapUSfny5dPdu3f13nvvqXv37pKkyMhISZK3t7fVdt7e3pZ1kZGR8vLyslrv4OCgIkWKWNr829SpUzVhwgRbHw4AAAAAII/IEWe6V69erRUrVmjlypU6fPiwli1bpunTp2vZsmWG7nf06NGKiYmxvC5cuGDo/gAAAAAAuUuOONP95ptv6u2331aXLl0kSdWqVdP58+c1depU9ezZUz4+PpKkK1euqHjx4pbtrly5opo1a0qSfHx8FBUVZdXvnTt3dO3aNcv2/+bk5CQnJycDjggAAAAAkBfkiDPd8fHxsre3LjVfvnxKTk6WJPn7+8vHx0dbt261rI+NjdW+ffsUGBgoSQoMDFR0dLQOHTpkabNt2zYlJyerXr16mXAUAAAAAIC8Jkec6W7Xrp3ee+89+fn5qUqVKvrtt980Y8YM9enTR5JkZ2en4cOHa/LkyapQoYL8/f317rvvytfXVx06dJAkBQQEqFWrVurfv78WLFigpKQkDR06VF26dGHmcgAAAACAIXJE6J47d67effddDR48WFFRUfL19dV///tfjRs3ztLmrbfe0s2bNzVgwABFR0fr2Wef1YYNG+Ts7Gxps2LFCg0dOlTNmjWTvb29OnXqpDlz5mTFIQEAAAAA8oAcEboLFiyoWbNmadasWQ9tY2dnp4kTJ2rixIkPbVOkSBGtXLnSgAoBAAAAAEgpR9zTDQAAAABATkToBgAAAADAIIRuAAAAAAAMQugGAAAAAMAghG4AAAAAAAxC6AYAAAAAwCCEbgAAAAAADELoBgAAAADAIOkK3WXLltXVq1dTLI+OjlbZsmUzXBQAAAAAALlBukL3uXPndPfu3RTLExMTdfHixQwXBQAAAABAbuCQlsbff/+95c8bN26Uu7u75f3du3e1detWlSlTxmbFAQAAAACQk6UpdHfo0EGSZGdnp549e1qty58/v8qUKaOPPvrIZsUBAAAAAJCTpSl0JycnS5L8/f114MABeXp6GlIUAAAAAAC5QZpC931nz561/DkhIUHOzs42KwgAAAAAgNwiXROpJScna9KkSSpRooTc3Nz0559/SpLeffddLVq0yKYFAgAAAACQU6U6dCcnJ+vDDz+UJE2ePFlLly7VtGnT5OjoaGlTtWpV/e9//7N9lQAAAAAA5ECpCt3Hjh1TvXr1lJSUJElatmyZFi5cqO7duytfvnyWdjVq1NCpU6ckSYMHD5bJZDKgZAAAAAAAcoZU3dP9/fffy9vbW6NGjZIkXbp0SeXLl0/RLjk52RLMFyxYoA4dOqhly5Y2LBcA8E8REREZ+oLT09NTfn5+NqwIAAAA/5Sq0P3mm2/q3XffVdOmTbVz505VrlxZv/zyi0qXLm3V7uuvv9aTTz4p6f9mOgcAGCMiIkKVAgJ0Kz4+3X24uLrqVFgYwRsAAMAgqQrdjo6O+uCDD7Rv3z5J0rhx49SzZ09dvHhRycnJWrt2rcLDw7V8+XKtX7/e0IIBAPeYTCbdio9X58nz5eVfIc3bR509rdVjB8lkMhG6AQAADJKmR4bVq1dPktS+fXv98MMPmjhxogoUKKBx48apVq1a+uGHH9SiRQtDCgUAPJiXfwWVCKiR1WUAAADgAdL1nG5JatCggTZv3mzLWgAAAAAAyFXS9Zzunj17ateuXbauBQAAAACAXCVdoTsmJkbNmzdXhQoVNGXKFF28eNHWdQEAAAAAkOOlK3SvW7dOFy9e1KBBg/TVV1+pTJkyeu655/T1119bHhkGAAAAAEBel67QLUnFihXTiBEjdOTIEe3bt0/ly5fXyy+/LF9fX73++us6ffq0LesEAAAAACDHSXfovu/y5cvavHmzNm/erHz58ql169Y6duyYKleurJkzZ9qiRgAAAAAAcqR0he6kpCR98803atu2rUqXLq01a9Zo+PDhunTpkpYtW6YtW7Zo9erVmjhxoq3rBQAAAAAgx0jXI8OKFy+u5ORkde3aVfv371fNmjVTtGnSpIk8PDwyWB6Q9SIiImQymTLUh6enp/z8/GxUEQAAAICcIl2he+bMmXrppZfk7Oz80DYeHh46e/ZsugsDsoOIiAhVCgjQrfj4DPXj4uqqU2FhBG8AAAAgj0lX6H755ZdtXQeQLZlMJt2Kj1fnyfPl5V8hXX1EnT2t1WMHyWQyEboBAACAPCZdobtp06aPXL9t27Z0FQNkV17+FVQioEZWlwEAAAAgh0lX6K5Rwzp8JCUlKTQ0VMePH1fPnj1tUhgAAAAAADlduu/pfpDg4GDFxcVlqCAAAAAAAHKLDD+n+5969OihxYsX27JLAAAAAAByLJuG7pCQkEfOaA4AAAAAQF6SrsvLO3bsaPXebDbr8uXLOnjwoN59912bFAYAAAAAQE6XrtDt7u5u9d7e3l4VK1bUxIkT1bJlS5sUBgAAAABATpeu0L1kyRJb1wEAAAAAQK5j03u6AQAAAADA/0n1me7ChQvLzs4uVW2vXbuW7oIAAAAAAMgtUh26Z82aZfnz1atXNXnyZAUFBSkwMFDSvZnLN27cyERqAAAAAAD8f6kO3T179rT8uVOnTpo4caKGDh1qWfbqq6/q448/1pYtW/T666/btkoAAAAAAHKgdN3TvXHjRrVq1SrF8latWmnLli0ZLgoAAAAAgNwgXaG7aNGi+u6771Is/+6771S0aNEMFwUAAAAAQG6QrkeGTZgwQf369dOOHTtUr149SdK+ffu0YcMGffbZZzYtEAAAAACAnCpdobtXr14KCAjQnDlztHbtWklSQECAdu/ebQnhAAAAAJBaYWFh6d7W09NTfn5+NqwGsJ10hW5JqlevnlasWGHLWgAAAADkMTdMV2RvJ/Xo0SPdfbi6OCvsVDjBG9lSukM3AAAAAGTUrRuxSjZLXwyWAnzTvn3YJanHvASZTCZCN7IlQjcAAACALBfgK9Xyz+oqANtL1+zlAAAAAADg8TjTDQAAbC4iIkImkylDfTAxErK7jEz8JfEZB/IKQjcAALCpiIgIVQoI0K34+Az14+LqqlNhYYQSZDu2mPhLYvIvGIvZ4LOPdIfugwcPavXq1YqIiNDt27et1t1/jBgAAMh7TCaTbsXHq/Pk+fLyr5CuPqLOntbqsYOYGAnZUkYn/pKY/AvGYTb47CfVoXvo0KHq3bu3ateurVWrVumVV15RUFCQNm3apJYtW+r333/XlStX9MILLxhZLwAAyCG8/CuoRECNrC4DMAwTfyE7Yjb47CfVobtDhw7q2rWrfv/9d02ZMkUzZ87UkCFDVLBgQc2ePVv+/v7673//q+LFixtZLwAAAADgMfhSKPtI9ezlv/zyixo1aiRJ+uOPP9SmTRtJkqOjo27evCk7Ozu9/vrrWrhwoTGVAgAAAACQw6Q6dM+ZM8dy6XjhwoV148YNSVKJEiV0/PhxSVJ0dLTiMzhpCgAAAAAAuUWqQ/eiRYu0atUqSVLDhg21efNmSdJLL72k1157Tf3791fXrl3VrFkzYyoFAAAAACCHSfU93R07dlTHjh0lSR9//LESEhIkSWPGjFH+/Pm1d+9ederUSWPHjjWmUgAAAAAAcpg0PTIsMjJS3t7eKlKkiGWZvb293n77bZsXBgAAAABATpfq0B0TE6MnnnhCu3fvVpkyZR7ZtlChQhmtCwAAAACAHC/Vobtw4cKSpCeffPKxbe/evZv+igAAAAAAyCVSHbq3bdumNm3a6LPPPlNSUpLefvtt9erVS4GBgZKkkJAQLVu2TFOnTjWsWAAAAAAAcpJUh+7GjRvL3t5eTz/9tPr3768ZM2aoa9eulvXPP/+8qlWrpoULF6pnz56GFAsAsL2wsLAMbe/p6Sk/Pz8bVQMAAJC7pGkitRkzZsjT01MhISFasGBBivV16tRRv379bFYcAMA4N0xXZG8n9ejRI0P9uLo4K+xUOMEbAADgAdIUuvv37y9JKlWqlD777DNNmzbNav3//vc/lSpVynbVAQAMc+tGrJLN0heDpQDf9PURdknqMS9BJpOJ0A0AAPAAaQrd982cOVOdOnXSzz//rHr16kmS9u/fr9OnT+ubb76xaYH3Xbx4UaNGjdLPP/+s+Ph4lS9fXkuWLFGdOnUkSWazWePHj9dnn32m6Oho1a9fX/Pnz1eFChUsfVy7dk3Dhg3TDz/8IHt7e3Xq1EmzZ8+Wm5ubITUDQE4Q4CvV8s/qKgAAAHIn+/Rs1Lp1a50+fVrPP/+8rl27pmvXrqldu3b6/fff1bp1a1vXqOvXr6t+/frKnz+/fv75Z508eVIfffSRZUZ1SZo2bZrmzJmjBQsWaN++fSpQoICCgoKUkJBgadO9e3edOHFCmzdv1vr167Vr1y4NGDDA5vUCAAAAACCl80y3JJUsWVLvvfeeLWt5qA8++EClSpXSkiVLLMv8/f/vtIzZbNasWbM0duxYtW/fXpK0fPlyeXt7a926derSpYvCwsK0YcMGHThwwHJ2fO7cuWrdurWmT58uX990XlsJAAAAAMBDpOtMd2b7/vvvVadOHb300kvy8vLSk08+qc8++8yy/uzZs4qMjFTz5s0ty9zd3VWvXj2FhIRIuvdIMw8PD0vglqTmzZvL3t5e+/bty7yDAQAAAADkGTkidP/555+W+7M3btyoQYMG6dVXX9WyZcskSZGRkZIkb29vq+28vb0t6yIjI+Xl5WW13sHBQUWKFLG0+bfExETFxsZavQAAAAAASK10X16emZKTk1WnTh1NmTJFkvTkk0/q+PHjWrBggaHPBJ86daomTJhgWP8AAAAAgNwtR5zpLl68uCpXrmy1LCAgQBEREZIkHx8fSdKVK1es2ly5csWyzsfHR1FRUVbr79y5o2vXrlna/Nvo0aMVExNjeV24cMEmxwMAAAAAyBsyFLr//vtv7d69W7t379bff/9tq5pSqF+/vsLDw62W/f777ypdurSke5Oq+fj4aOvWrZb1sbGx2rdvnwIDAyVJgYGBio6O1qFDhyxttm3bpuTkZMtjz/7NyclJhQoVsnoBAAAAAJBa6QrdN2/eVJ8+feTr66uGDRuqYcOG8vX1Vd++fRUfH2/rGvX666/r119/1ZQpU3TmzBmtXLlSCxcu1JAhQyRJdnZ2Gj58uCZPnqzvv/9ex44d0yuvvCJfX1916NBB0r0z461atVL//v21f/9+7dmzR0OHDlWXLl2YuRwAAAAAYIhUh26TyaQuXbpIkkaMGKGdO3fq+++/V3R0tKKjo/Xdd99p586deuONN2xeZN26dfXtt9/qyy+/VNWqVTVp0iTNmjVL3bt3t7R56623NGzYMA0YMEB169ZVXFycNmzYIGdnZ0ubFStWqFKlSmrWrJlat26tZ599VgsXLrR5vQAAAAAASKmcSG3Hjh0aOHCgpk2bJkn65ptv9PXXX6tx48aWNq1bt5aLi4s6d+6s+fPn27zQtm3bqm3btg9db2dnp4kTJ2rixIkPbVOkSBGtXLnS5rUBAAAAAPAgqQrdp06dkqenp55++mlJUnx8fIrHc0mSl5eXIZeXA8g9IiIiZDKZMtSHp6en/Pz8bFQRAAAAYJxUhe6BAweqePHiatWqlQ4fPqynn35a48eP1/Llyy2Xb9+6dUsTJkywTFwGAP8WERGhSgEBupXBL+dcXF11KiyM4A0AAIBsL9XP6W7fvr0aNWokSZozZ46CgoJUsmRJ1ahRQ5J05MgROTs7a+PGjcZUCiDHM5lMuhUfr86T58vLv0K6+og6e1qrxw6SyWQidAMAACDbS3XoliQPDw9JUtWqVXX69GmtWLFCp06dkiR17dpV3bt3l4uLi82LBJC7ePlXUImAGlldBgAAAGC4NIXuf3J1dVX//v1tWQsAAAAAALlKup7TDQAAAAAAHo/QDQAAAACAQQjdAAAAAAAYhNANAAAAAIBBHjuR2ieffKJKlSqpWbNmKdYdOnRIYWFhkqTKlSurVq1atq8QAAAAAIAc6rGhu0GDBurWrZsmT56sDh06SJKioqLUpUsX7dixw/IYsejoaDVp0kSrVq1SsWLFjKwZAAAAAIAc4bGXl1evXl2HDh2Sl5eX+vXrJ5PJpGHDhunGjRs6ceKErl27pmvXrun48eOKjY3Vq6++mhl1AwAAAACQ7aXqnm4nJyf16dNH9evXl6enpzZs2KB58+YpICDA0qZy5cr65JNP9PPPPxtWLAAAAAAAOUmqJ1JLTExU4cKFJUnJycnKnz9/ijb58+dXcnKy7aoDAAAAACAHS3Xo/vXXX7V8+XJdvXpVTZs21WuvvaZLly5Z1l+8eFGvv/76AydcAwAAAAAgL0p16Pb29tbatWtVtGhRffzxx4qNjVWZMmVUrlw5lStXTv7+/oqNjdXcuXONrBcAAAAAgBzjsbOXP0ipUqV0+PBhbdmyRadOnZIkBQQEqHnz5jYtDgAAAACAnCxdoVuS7Ozs1KJFC7Vo0cKW9QAAAAAAkGuk+vJySQoJCdH69eutli1fvlz+/v7y8vLSgAEDlJiYaNMCAQAAAADIqdIUuidOnKgTJ05Y3h87dkx9+/ZV8+bN9fbbb+uHH37Q1KlTbV4kAAAAAAA5UZpCd2hoqNXs5KtWrVK9evX02WefacSIEZozZ45Wr15t8yIBAAAAAMiJ0nRP9/Xr1+Xt7W15v3PnTj333HOW93Xr1tWFCxdsVx2Qi4SFhaV7W09PT/n5+dmwGgAAAACZIU2h29vbW2fPnlWpUqV0+/ZtHT58WBMmTLCsv3HjhvLnz2/zIoGc7IbpiuztpB49eqS7D1cXZ4WdCid4AwAAADlMmkJ369at9fbbb+uDDz7QunXr5OrqqgYNGljWHz16VOXKlbN5kUibiIgImUymDPXBmVXbuXUjVslm6YvBUoBv2rcPuyT1mJcgk8nE3wkAAACQw6QpdE+aNEkdO3ZUo0aN5ObmpmXLlsnR0dGyfvHixWrZsqXNi0TqRUREqFJAgG7Fx2eoHxdXV50KCyPk2VCAr1TLP6urAAAAAJCZ0hS6PT09tWvXLsXExMjNzU358uWzWr9mzRq5ubnZtECkjclk0q34eHWePF9e/hXS1UfU2dNaPXYQZ1YBAAAAIIPSFLrvc3d3f+DyIkWKZKgY2I6XfwWVCKiR1WUAAAAAQJ6WpkeGAQAAAACA1CN0AwAAAABgEEI3AAAAAAAGIXQDAAAAAGAQQjcAAAAAAAYhdAMAAAAAYBBCNwAAAAAABiF0AwAAAABgEEI3AAAAAAAGIXQDAAAAAGAQQjcAAAAAAAYhdAMAAAAAYBBCNwAAAAAABiF0AwAAAABgEEI3AAAAAAAGIXQDAAAAAGAQQjcAAAAAAAYhdAMAAAAAYBBCNwAAAAAABiF0AwAAAABgEEI3AAAAAAAGIXQDAAAAAGAQQjcAAAAAAAYhdAMAAAAAYBBCNwAAAAAABiF0AwAAAABgEEI3AAAAAAAGIXQDAAAAAGAQQjcAAAAAAAYhdAMAAAAAYBBCNwAAAAAABiF0AwAAAABgEEI3AAAAAAAGIXQDAAAAAGAQQjcAAAAAAAYhdAMAAAAAYBBCNwAAAAAABiF0AwAAAABgEEI3AAAAAAAGIXQDAAAAAGAQh6wuAACA7CAiIkImkylDfXh6esrPz89GFQEAgNwgR4bu999/X6NHj9Zrr72mWbNmSZISEhL0xhtvaNWqVUpMTFRQUJDmzZsnb29vy3YREREaNGiQtm/fLjc3N/Xs2VNTp06Vg0OOHAYAgI1ERESoUkCAbsXHZ6gfF1dXnQoLI3gDAACLHJc2Dxw4oE8//VTVq1e3Wv7666/rxx9/1Jo1a+Tu7q6hQ4eqY8eO2rNnjyTp7t27atOmjXx8fLR3715dvnxZr7zyivLnz68pU6ZkxaEAALIJk8mkW/Hx6jx5vrz8K6Srj6izp7V67CCZTCZCNwAAsMhRoTsuLk7du3fXZ599psmTJ1uWx8TEaNGiRVq5cqWaNm0qSVqyZIkCAgL066+/6umnn9amTZt08uRJbdmyRd7e3qpZs6YmTZqkUaNGKTg4WI6Ojll1WACAbMLLv4JKBNTI6jIAAEAukqMmUhsyZIjatGmj5s2bWy0/dOiQkpKSrJZXqlRJfn5+CgkJkSSFhISoWrVqVpebBwUFKTY2VidOnHjg/hITExUbG2v1AgAAAAAgtXLMme5Vq1bp8OHDOnDgQIp1kZGRcnR0lIeHh9Vyb29vRUZGWtr8M3DfX39/3YNMnTpVEyZMsEH1AAAAAIC8KEec6b5w4YJee+01rVixQs7Ozpm239GjRysmJsbyunDhQqbtGwAAAACQ8+WI0H3o0CFFRUWpVq1acnBwkIODg3bu3Kk5c+bIwcFB3t7eun37tqKjo622u3Llinx8fCRJPj4+unLlSor199c9iJOTkwoVKmT1AgAAAAAgtXJE6G7WrJmOHTum0NBQy6tOnTrq3r275c/58+fX1q1bLduEh4crIiJCgYGBkqTAwEAdO3ZMUVFRljabN29WoUKFVLly5Uw/JgAAAABA7pcj7ukuWLCgqlatarWsQIECKlq0qGV53759NWLECBUpUkSFChXSsGHDFBgYqKefflqS1LJlS1WuXFkvv/yypk2bpsjISI0dO1ZDhgyRk5NTph8TAAAAACD3yxGhOzVmzpwpe3t7derUSYmJiQoKCtK8efMs6/Ply6f169dr0KBBCgwMVIECBdSzZ09NnDgxC6sGAAAAAORmOTZ079ixw+q9s7OzPvnkE33yyScP3aZ06dL66aefDK4MAAAAAIB7csQ93QAAAAAA5ESEbgAAAAAADELoBgAAAADAIIRuAAAAAAAMQugGAAAAAMAghG4AAAAAAAxC6AYAAAAAwCCEbgAAAAAADELoBgAAAADAIIRuAAAAAAAMQugGAAAAAMAghG4AAAAAAAxC6AYAAAAAwCCEbgAAAAAADELoBgAAAADAIIRuAAAAAAAMQugGAAAAAMAghG4AAAAAAAxC6AYAAAAAwCCEbgAAAAAADELoBgAAAADAIIRuAAAAAAAMQugGAAAAAMAghG4AAAAAAAxC6AYAAAAAwCCEbgAAAAAADELoBgAAAADAIA5ZXQAAAMDDhIWFZWh7T09P+fn52agaAADSjtANAACynRumK7K3k3r06JGhflxdnBV2KpzgDQDIMoRuAACQ7dy6Eatks/TFYCnAN319hF2SesxLkMlkInQDALIMoRsAAGRbAb5SLf+srgIAgPRjIjUAAAAAAAzCmW4AOVJGJldiYiUAAABkFkI3gBzFFpMrMbESAAAAMguhG0COktHJlZhYCQAAAJmJ0A0gR2JyJQAAAOQETKQGAAAAAIBBCN0AAAAAABiE0A0AAAAAgEEI3QAAAAAAGITQDQAAAACAQQjdAAAAAAAYhNANAAAAAIBBCN0AAAAAABiE0A0AAAAAgEEI3QAAAAAAGITQDQAAAACAQQjdAAAAAAAYhNANAAAAAIBBCN0AAAAAABiE0A0AAAAAgEEI3QAAAAAAGITQDQAAAACAQQjdAAAAAAAYhNANAAAAAIBBCN0AAAAAABiE0A0AAAAAgEEI3QAAAAAAGITQDQAAAACAQQjdAAAAAAAYhNANAAAAAIBBCN0AAAAAABiE0A0AAAAAgEEI3QAAAAAAGITQDQAAAACAQQjdAAAAAAAYhNANAAAAAIBBckTonjp1qurWrauCBQvKy8tLHTp0UHh4uFWbhIQEDRkyREWLFpWbm5s6deqkK1euWLWJiIhQmzZt5OrqKi8vL7355pu6c+dOZh4KAAAAACAPyRGhe+fOnRoyZIh+/fVXbd68WUlJSWrZsqVu3rxpafP666/rhx9+0Jo1a7Rz505dunRJHTt2tKy/e/eu2rRpo9u3b2vv3r1atmyZli5dqnHjxmXFIQEAAAAA8gCHrC4gNTZs2GD1funSpfLy8tKhQ4fUsGFDxcTEaNGiRVq5cqWaNm0qSVqyZIkCAgL066+/6umnn9amTZt08uRJbdmyRd7e3qpZs6YmTZqkUaNGKTg4WI6OjllxaAAAAACAXCxHnOn+t5iYGElSkSJFJEmHDh1SUlKSmjdvbmlTqVIl+fn5KSQkRJIUEhKiatWqydvb29ImKChIsbGxOnHixAP3k5iYqNjYWKsXAAAAAACpleNCd3JysoYPH6769euratWqkqTIyEg5OjrKw8PDqq23t7ciIyMtbf4ZuO+vv7/uQaZOnSp3d3fLq1SpUjY+GgAAAABAbpbjQveQIUN0/PhxrVq1yvB9jR49WjExMZbXhQsXDN8nAAAAACD3yBH3dN83dOhQrV+/Xrt27VLJkiUty318fHT79m1FR0dbne2+cuWKfHx8LG32799v1d/92c3vt/k3JycnOTk52fgoAAAAAAB5RY440202mzV06FB9++232rZtm/z9/a3W165dW/nz59fWrVsty8LDwxUREaHAwEBJUmBgoI4dO6aoqChLm82bN6tQoUKqXLly5hwIAAAAACBPyRFnuocMGaKVK1fqu+++U8GCBS33YLu7u8vFxUXu7u7q27evRowYoSJFiqhQoUIaNmyYAgMD9fTTT0uSWrZsqcqVK+vll1/WtGnTFBkZqbFjx2rIkCGczQYAAAAAGCJHhO758+dLkho3bmy1fMmSJerVq5ckaebMmbK3t1enTp2UmJiooKAgzZs3z9I2X758Wr9+vQYNGqTAwEAVKFBAPXv21MSJEzPrMAAAAAAAeUyOCN1ms/mxbZydnfXJJ5/ok08+eWib0qVL66effrJlaQAAAAAAPFSOuKcbAAAAAICciNANAAAAAIBBCN0AAAAAABiE0A0AAAAAgEEI3QAAAAAAGITQDQAAAACAQQjdAAAAAAAYhNANAAAAAIBBCN0AAAAAABiE0A0AAAAAgEEI3QAAAAAAGITQDQAAAACAQRyyugAAAADkHGFhYRna3tPTU35+fjaqBgCyP0I3AAAAHutytCQ7qUePHhnqx9nFWeGnwgneAPIMQjcAAAAeKzpekllSR0me6ezEJCWsTZDJZCJ0A8gzCN0AAABIPU9JvlldBADkHIRuPBT3bAEAACNk5HcMfr8AkNMQupHCDdMV2dvgni1XF2eFcc8WAAC4L+7eo3My8juGq7OzwsL5/QJAzkHoRgq3bsQq2Sx9MVgKSOflY2GXpB7zuGcLAAD8Q4KULOkLSQHp2DxMUo8Efr8AkLMQuvFQAb5SLf+srgIAAOQ2AZJqZXURAJBJ7LO6AAAAAAAAcitCNwAAAAAABuHycmRbERERMplMGeqDGU4BAAAAZCVCN7KliIgIBVSsqPiEhAz1wwynAAAAALISoRvZkslkUnxCQrpnN5WY4fTfuHIAAIDchX/bgZyB0A1DhYWFZWg7Zje1Da4cAAAgd+HfdiDnIHTDEJejJdlJPXr0yOpSIK4cAAAgt+HfdiDnIHTDENHxksySOkryTEcHpyVtt2lJEFcOAACQ3XBVIJD7EbphLE9JvunYLmO3JwEAAGRrXBUI5B2EbgAAACCTcVUgkHcQugEAQK6W3st372N2ZxiKqwKRSzG7/v8hdAMAgFzJVpfvOrs4K/wUszsDuR0h0XaYXd8aoRsAAORKGb58V5JMUsLaBP3yyy8KCEjfHNH8Eg5kjoxc1XL58mW91KmTbiUmZqiG3BISM4rZ9a0RugEAQO6W3st3JSlOslfGzpbzSzhgLFtOSkdI/D8Z+RKD2fWtEboBAAAeJkFKVvp/Ec9tv4QD2ZFNrmr5/xPTERKZWd8IhG4gh7DFt40AgPThF3EgB8jIVS1MTGdhyy8xcA+hG8jm+LYRAAAAmY4vMWyG0A1kc3zbCAAAAORchG4gp+DbRgAAACDHsc/qAgAAAAAAyK0I3QAAAAAAGITLywHkSRmd0T0xMVFOTk4Z6sPT05NHCP1/ERERMpkydh8E4wkAALIjQjeAPMVWs8Hb696zezPC1dlZYeHheT4oRkREKKBiRcUnJGSoH8YTAABkR4RuAHmKrWaDT94ufaF7z+5NjzBJPRISZDKZ8nxINJlMik9IYDwBAECuROgGkDfZYDb4AEm1bFQOGE8AAJA7MZEaAAAAAAAG4Uw3AAC5DBPTAQCQfRC6AQAZlpHZ4DM6k3x2k9Uz41++fFkvdeqkW4mJGaqDiekAALANQjcAIN1sNRt8bnDDdEX2thgLO92b7C+DmJgOAIDsgdANAEg3W80Gr+02KynL3LoRq2Sz9MVgKSCdk/T9dER6d41sMp5MTAcAQPZA6AYAZJwNZoPPLQJ8pVr+6ds27NL//wPjCQBArsHs5QAAAAAAGITQDQAAAACAQQjdAAAAAAAYhNANAAAAAIBBCN0AAAAAABiE0A0AAAAAgEEI3QAAAAAAGITQDQAAAACAQQjdAAAAAAAYhNANAAAAAIBBCN0AAAAAABiE0A0AAAAAgEEI3QAAAAAAGITQDQAAAACAQQjdAAAAAAAYhNANAAAAAIBB8lzo/uSTT1SmTBk5OzurXr162r9/f1aXBAAAAADIpfJU6P7qq680YsQIjR8/XocPH1aNGjUUFBSkqKiorC4NAAAAAJAL5anQPWPGDPXv31+9e/dW5cqVtWDBArm6umrx4sVZXRoAAAAAIBfKM6H79u3bOnTokJo3b25ZZm9vr+bNmyskJCQLKwMAAAAA5FYOWV1AZjGZTLp79668vb2tlnt7e+vUqVMP3CYxMVGJiYmW9zExMZKk2NhY4wrNoLi4OEnSxbCjuh1/M119/H3utCTp0DkpLiF9dYRd+v9/uCzpdnqKuPefQ5Li0leCwv//f+Pi4tL9d5YdxjPDYykxnv/AeP6fbPGzLmWL8cwOn02J8fyn3DKe2eFnXWI8/ynXjGc2+Fm/v63Ev+0S42ldxL3/ZPV4Gu1+XWaz+ZHt7MyPa5FLXLp0SSVKlNDevXsVGBhoWf7WW29p586d2rdvX4ptgoODNWHChMwsEwAAAACQg1y4cEElS5Z86Po8c6bb09NT+fLl05UrV6yWX7lyRT4+Pg/cZvTo0RoxYoTlfXJysq5du6aiRYvKzs7O0HpzutjYWJUqVUoXLlxQoUKFsrqcHI2xtC3G07YYT9tiPG2L8bQtxtO2GE/bYSxti/FMPbPZrBs3bsjX1/eR7fJM6HZ0dFTt2rW1detWdejQQdK9EL1161YNHTr0gds4OTnJycnJapmHh4fBleYuhQoV4ofVRhhL22I8bYvxtC3G07YYT9tiPG2L8bQdxtK2GM/UcXd3f2ybPBO6JWnEiBHq2bOn6tSpo6eeekqzZs3SzZs31bt376wuDQAAAACQC+Wp0P2f//xHf//9t8aNG6fIyEjVrFlTGzZsSDG5GgAAAAAAtpCnQrckDR069KGXk8N2nJycNH78+BSX5yPtGEvbYjxti/G0LcbTthhP22I8bYvxtB3G0rYYT9vLM7OXAwAAAACQ2eyzugAAAAAAAHIrQjfSbfXq1XrmmWey7cPqcxrG07YYT9tiPG2L8bQtxtO2GE/bYSxti/HMGMYv63B5OdLs2LFjatu2rUqWLKlJkybJ0dFRzz77bFaXlWMxnrbFeNoW42lbjKdtMZ62xXjaDmNpW4xnxjB+WY8z3bDSq1cvy3PMHyQxMVEDBw7Ujz/+qBYtWmj37t02+aF99dVXVbt2bTk5OalmzZoZ7i+7yIrxPHLkiLp27apSpUrJxcVFAQEBmj17dob6zC6yYjyvXr2qVq1aydfXV05OTipVqpSGDh2aK74lzqqf9/uuXr2qkiVLys7OTtHR0TbrN6tk1Xja2dmleK1atSrD/Wa1rPx8Ll26VNWrV5ezs7O8vLw0ZMgQm/SblbJiPJcuXfrAz6ednZ2ioqIy1HdWyqrP5oEDB9SsWTN5eHiocOHCCgoK0pEjRzLcb1bLqvHcunWrnnnmGRUsWFA+Pj4aNWqU7ty5k+F+M1t2/t396NGjatCggZydnVWqVClNmzYtw/vNqfLc7OXIGCcnJ+3Zs0eSVLVqVZv23adPH+3bt09Hjx61ab/ZmRHjeejQIXl5eemLL75QqVKltHfvXg0YMED58uXL9TP3GzGe9vb2at++vSZPnqxixYrpzJkzGjJkiK5du6aVK1faZB/ZlZE/75LUt29fVa9eXRcvXrR539mRkeO5ZMkStWrVyvLew8PDpv1nR0aN54wZM/TRRx/pww8/VL169XTz5k2dO3fOZv1nV0aM53/+8x+rz6V0LyAkJCTIy8vLJvvIjowYy7i4OLVq1UrPP/+85s2bpzt37mj8+PEKCgrShQsXlD9/fpvsJzsyYjyPHDmi1q1ba8yYMVq+fLkuXryogQMH6u7du5o+fbpN9pFdZNXv7rGxsWrZsqWaN2+uBQsW6NixY+rTp488PDw0YMAAm9aRE3CmG2kyY8YMVatWTQUKFFCpUqU0ePBgxcXFWdYvXbpUHh4e2rhxowICAuTm5qZWrVrp8uXLj+x3zpw5GjJkiMqWLWv0IWQrRoxnnz59NHv2bDVq1Ehly5ZVjx491Lt3b61duzYzDilLGTGehQsX1qBBg1SnTh2VLl1azZo10+DBg/XLL79kxiFlKaN+3iVp/vz5io6O1siRI408hGzFyPH08PCQj4+P5eXs7GzkoWQLRozn9evXNXbsWC1fvlzdunVTuXLlVL16dT3//POZcUhZyojxdHFxsfpc5suXT9u2bVPfvn0z45CyjBFjeerUKV27dk0TJ05UxYoVVaVKFY0fP15XrlzR+fPnM+OwsowR4/nVV1+pevXqGjdunMqXL69GjRpp2rRp+uSTT3Tjxo3MOKxMk1W/u69YsUK3b9/W4sWLVaVKFXXp0kWvvvqqZsyYYdPjyykI3UgTe3t7zZkzRydOnNCyZcu0bds2vfXWW1Zt4uPjNX36dH3++efatWuXIiIi8tQv1mmRWeMZExOjIkWK2LL0bCkzxvPSpUtau3atGjVqZOvysx2jxvPkyZOaOHGili9fLnv7vPPPkJGfzyFDhsjT01NPPfWUFi9erLwwXYsR47l582YlJyfr4sWLCggIUMmSJdW5c2dduHDB6MPJcpnx/8/ly5fL1dVVL774oq3Lz1aMGMuKFSuqaNGiWrRokW7fvq1bt25p0aJFCggIUJkyZQw+oqxlxHgmJiam+HLSxcVFCQkJOnTokCHHkVWy6nf3kJAQNWzYUI6OjpZlQUFBCg8P1/Xr1zPUd45kBv6hZ8+e5vbt26e6/Zo1a8xFixa1vF+yZIlZkvnMmTOWZZ988onZ29s7Vf2NHz/eXKNGjVTvP7vL6vE0m83mPXv2mB0cHMwbN25M9TbZVVaOZ5cuXcwuLi5mSeZ27dqZb926labas6OsGM+EhARz9erVzZ9//rnZbDabt2/fbpZkvn79eprrz26y6vM5ceJE8+7du82HDx82v//++2YnJyfz7Nmz01x/dpMV4zl16lRz/vz5zRUrVjRv2LDBHBISYm7WrJm5YsWK5sTExHQdR3aRHf49CggIMA8aNCjV7bOrrBrLY8eOmcuVK2e2t7c329vbmytWrGg+d+5cmuvPbrJiPDdu3Gi2t7c3r1y50nznzh3zX3/9ZW7QoIFZknnlypXpOo6sktU/2w/73b1FixbmAQMGWC07ceKEWZL55MmTqa43t8g7pxhgE1u2bFGzZs1UokQJFSxYUC+//LKuXr2q+Ph4SxtXV1eVK1fO8r548eI5esIUIxk9nsePH1f79u01fvx4tWzZ0ub1ZzdGjufMmTN1+PBhfffdd/rjjz80YsQIQ44hOzFiPEePHq2AgAD16NHD0NqzI6M+n++++67q16+vJ598UqNGjdJbb72lDz/80LDjyC6MGM/k5GQlJSVpzpw5CgoK0tNPP60vv/xSp0+f1vbt2w09nqxm9L9HISEhCgsLy/WXlkvGjOWtW7fUt29f1a9fX7/++qv27NmjqlWrqk2bNrp165ahx5PVjBjPli1b6sMPP9TAgQPl5OSkJ554Qq1bt5akXHcFFr+7Zw+561MFQ507d05t27ZV9erV9c033+jQoUP65JNPJEm3b9+2tPv3ZB52dnZ54lLHtDJ6PE+ePKlmzZppwIABGjt2rG2Lz4aMHk8fHx9VqlRJzz//vD799FPNnz8/Vffa5lRGjee2bdu0Zs0aOTg4yMHBQc2aNZMkeXp6avz48QYcSfaQmf//rFevnv766y8lJiZmvPBsyqjxLF68uCSpcuXKlmXFihWTp6enIiIibHkI2UpmfD7/97//qWbNmqpdu7btCs+GjBrLlStX6ty5c1qyZInq1q2rp59+WitXrtTZs2f13XffGXMw2YCRn80RI0YoOjpaERERMplMat++vSTlqvmFsvJ3dx8fH125csVq2f33Pj4+Geo7J2L2cqTaoUOHlJycrI8++sjyLeDq1auzuKqcy8jxPHHihJo2baqePXvqvffes0mf2V1mfj6Tk5MlKVeHGqPG85tvvrE6K3PgwAH16dNHv/zyi9W37LlNZn4+Q0NDVbhwYTk5ORnSf3Zg1HjWr19fkhQeHq6SJUtKkq5duyaTyaTSpUtnuP/syujPZ1xcnFavXq2pU6farM/syqixjI+Pl729vezs7CzL7r+//29SbmT0Z9POzk6+vr6SpC+//FKlSpVSrVq1bNZ/VsvK390DAwM1ZswYJSUlWUL95s2bVbFiRRUuXDhTashOCN1IISYmRqGhoVbLihYtqvLlyyspKUlz585Vu3bttGfPHi1YsMAm+zxz5ozi4uIUGRmpW7duWfZfuXJlqwkYcqLMHs/jx4+radOmCgoK0ogRIxQZGSlJypcvn4oVK5bh/rNaZo/nTz/9pCtXrqhu3bpyc3PTiRMn9Oabb6p+/fq5YvKazB7Pfwdrk8kkSQoICMgVj7nK7PH84YcfdOXKFT399NNydnbW5s2bNWXKlFwzeWVmj+cTTzyh9u3b67XXXtPChQtVqFAhjR49WpUqVVKTJk0y3H9Wy4p/36V7M0XfuXMnV91Wktlj2aJFC7355psaMmSIhg0bpuTkZL3//vtycHDgs5lOH374oVq1aiV7e3utXbtW77//vlavXq18+fLZpP/MlB1/d+/WrZsmTJigvn37atSoUTp+/Lhmz56tmTNn2mT/OU5W3UyO7Klnz55mSSleffv2NZvNZvOMGTPMxYsXN7u4uJiDgoLMy5cvt5oEacmSJWZ3d3erPr/99lvz4z5qjRo1euB+z549a8BRZp6sGM/x48c/cJ+lS5c26CgzT1aM57Zt28yBgYFmd3d3s7Ozs7lChQrmUaNG5ZqJv7Li5/2fcttEapk9nj///LO5Zs2aZjc3N3OBAgXMNWrUMC9YsMB89+5dow4z02TV5zMmJsbcp08fs4eHh7lIkSLmF154wRwREWHEIWaqrPx5DwwMNHfr1s3Wh5RlsmosN23aZK5fv77Z3d3dXLhwYXPTpk3NISEhRhxipsqq8WzSpInl3/Z69eqZf/rpJyMOz3DZ+Xf3I0eOmJ999lmzk5OTuUSJEub333/floeeo9iZzdxsCwAAAACAEZhIDQAAAAAAgxC6AQAAAAAwCKEbAAAAAACDELoBAAAAADAIoRsAAAAAAIMQugEAAAAAMAihGwAAAAAAgxC6AQAAAAAwCKEbAIBcbPXq1XrmmWcUGxub1aUAAJAnEboBAMiFjh07ptKlS2v27NmaPHmyjh49auj+evXqpQ4dOhi6DwAAciJCNwAAOczjAm5iYqIGDhyoH3/8US1atNDu3bv17LPPZl6BAADAwiGrCwAAALbl5OSkPXv2SJKqVq2axdUAAJC3caYbAIBcZsaMGapWrZoKFCigUqVKafDgwYqLi7OsX7p0qTw8PLRx40YFBATIzc1NrVq10uXLlx/Z74kTJ9S2bVsVKlRIBQsWVIMGDfTHH39YtZk+fbqKFy+uokWLasiQIUpKSrKs+/zzz1WnTh0VLFhQPj4+6tatm6KioiRJZrNZ5cuX1/Tp0636Cw0NlZ2dnc6cOZPRYQEAIEsQugEAyGXs7e01Z84cnThxQsuWLdO2bdv01ltvWbWJj4/X9OnT9fnnn2vXrl2KiIjQyJEjH9rnxYsX1bBhQzk5OWnbtm06dOiQ+vTpozt37ljabN++XX/88Ye2b9+uZcuWaenSpVq6dKllfVJSkiZNmqQjR45o3bp1OnfunHr16iVJsrOzU58+fbRkyRKr/S5ZskQNGzZU+fLlMz4wAABkATuz2WzO6iLw/9q7l1fY/ziO4y9EnTFjIwkZC2wQyaUsNItZKJflYCPEwsI/wMpl4RI2cinl0jSZXCI2FpIoG6ZmSS4JycLUjGtmSr+FjjrH/M7xa35zOHo+6rv6fub9ec/sXvP+9P0CAPB+DQ0N8nq9Wl5eftf6hYUFtbS06Pr6WtLLpLuxsVFHR0dKT0+XJI2Ojqqrq0tXV1dBa7S3t8vpdOrg4EDR0dFBe9rc3NTx8bGioqIkSdXV1YqMjJTT6Qxac29vT0VFRbq9vZXRaNTl5aXMZrN2dnZUXFysQCCg5ORkDQwMqL6+/l3fFQCAz4ZJNwAAX8z6+rqsVqtSUlJkMplUV1cnj8ejh4eH1zUGg+E1cEtSUlLS61HvYNxut0pLS4MG7u+ys7NfA3ewmi6XS1VVVTKbzTKZTLJYLJKks7MzSVJycrIqKio0OTkpSVpdXdXT05NsNtt//AUAAPg8CN0AAHwhp6enqqysVG5urhYXF+VyuTQyMiJJ8vv9r+t+Ds8RERH61eG3b9++/XbvYDWfn58lSff39yorK1NcXJwcDod2d3e1tLT0pq/m5mY5nU49Pj5qampKNTU1MhgMv90bAIDPiqeXAwDwhbhcLj0/P2twcFCRkS//rc/NzYVcNzc3VzMzMwoEAr+cdv+b/f19eTwe9fb2KjU1VdLL8fKflZeXKzY2VmNjY1pbW9PW1lbIvQMA8JGYdAMA8Bfy+Xxyu90/XOfn58rIyFAgENDw8LBOTk5kt9s1Pj4e8n6tra26ublRbW2t9vb2dHh4KLvdroODg3d93mw2KyYm5rWvlZUVdXd3v1kXFRWlhoYGtbW1KTMzUyUlJSH3DgDARyJ0AwDwF9rc3FR+fv4PV2dnp/Ly8jQ0NKS+vj7l5OTI4XCop6cn5P3i4+O1sbGhu7s7WSwWFRQUaGJi4t1T74SEBE1PT2t+fl5ZWVnq7e1983qw75qamuT3+9XY2Bhy3wAAfDSeXg4AAD6V7e1tWa1WnZ+fKzEx8aPbAQAgJEy6AQDAH+Pz+WQ0GrW9vf3m3tPTky4uLtTR0SGbzUbgBgB8CYRuAADwx5hMJrndbhUWFr65Nzs7q7S0NHm9XvX3939AdwAA/P84Xg4AAAAAQJgw6QYAAAAAIEwI3QAAAAAAhAmhGwAAAACAMCF0AwAAAAAQJoRuAAAAAADChNANAAAAAECYELoBAAAAAAgTQjcAAAAAAGFC6AYAAAAAIEz+AU7EVl+/hDTiAAAAAElFTkSuQmCC)"
      ]
    },
    {
      "cell_type": "markdown",
      "metadata": {
        "id": "B6BK2Tub1eSW"
      },
      "source": [
        "##### Nhận xét kết quả"
      ]
    },
    {
      "cell_type": "markdown",
      "metadata": {
        "id": "raozqDmT1kBX"
      },
      "source": [
        "- Thuật toán A* với heuristic Manhattan là lựa chọn tối ưu nhất trong bối cảnh được thử nghiệm, hiệu quả cả về số lượng nút mở rộng lẫn đường đi tối ưu đến mục tiêu.\n",
        "- Greedy BFS, mặc dù nhanh chóng tiếp cận mục tiêu, nhưng không đảm bảo tìm kiếm hiệu quả và có thể không phù hợp cho các bài toán đòi hỏi một giải pháp tối ưu hoặc trong các môi trường phức tạp hơn."
      ]
    },
    {
      "cell_type": "markdown",
      "metadata": {
        "id": "0-m8sHLr4sYo"
      },
      "source": [
        "### Cập nhật phân công, khối lượng công việc\n",
        "<!-- công việc của các thành viên, tỷ lệ đóng góp của các thành viên -->"
      ]
    },
    {
      "cell_type": "markdown",
      "metadata": {
        "id": "rtM47Zvwz6J7"
      },
      "source": [
        "\n",
        "#### 1. Phân công\n",
        "\n",
        "- Cao Thị Ngọc Huyền: Cải tiến giao diện và các logic liên quan\n",
        "\n",
        "- Trần Tuấn Hùng: Xây dựng Greedy BFS, thiết kế Slide và thuyết trình\n",
        "\n",
        "- Nguyễn Ngọc Phúc: Xây dựng thuật toán A* và làm báo cáo\n",
        "\n",
        "- Bùi Xuân Tùng: Xây dựng mê cung, các logic liên quan, tối ưu code và kiểm thử\n",
        "\n"
      ]
    },
    {
      "cell_type": "markdown",
      "metadata": {
        "id": "m8NIsl7d4t6b"
      },
      "source": [
        "#### 2. Khối lượng công việc\n",
        "\n",
        "- Cao Thị Ngọc Huyền: `26%`\n",
        "\n",
        "- Trần Tuấn Hùng: `24%`\n",
        "\n",
        "- Nguyễn Ngọc Phúc: `24%`\n",
        "\n",
        "- Bùi Xuân Tùng: `26%`\n"
      ]
    },
    {
      "cell_type": "markdown",
      "metadata": {},
      "source": [
        "### Tài liệu tham khảo:\n",
        "- Slide bài giảng Nhập môn Trí tuệ nhân tạo - SOICT - Đại học Bách khoa Hà Nội\n",
        "- Hướng dẫn sử dụng thư viện PyQt5: https://doc.qt.io/qtforpython-5/tutorials/index.html"
      ]
    }
  ],
  "metadata": {
    "colab": {
      "collapsed_sections": [
        "zdSWGn_i9jYz",
        "xGEARQ9xwNg1",
        "G5bczJfcCFYL",
        "0vu-XzSw8Gt7"
      ],
      "provenance": [],
      "toc_visible": true
    },
    "kernelspec": {
      "display_name": "Python 3",
      "name": "python3"
    },
    "language_info": {
      "codemirror_mode": {
        "name": "ipython",
        "version": 3
      },
      "file_extension": ".py",
      "mimetype": "text/x-python",
      "name": "python",
      "nbconvert_exporter": "python",
      "pygments_lexer": "ipython3",
      "version": "3.13.1"
    }
  },
  "nbformat": 4,
  "nbformat_minor": 0
}
